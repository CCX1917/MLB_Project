{
 "cells": [
  {
   "cell_type": "markdown",
   "metadata": {},
   "source": [
    "# Major League Baseball"
   ]
  },
  {
   "cell_type": "markdown",
   "metadata": {},
   "source": [
    "By: Brady Chyla"
   ]
  },
  {
   "cell_type": "markdown",
   "metadata": {},
   "source": [
    "## Introduction"
   ]
  },
  {
   "cell_type": "markdown",
   "metadata": {},
   "source": [
    "#### Context"
   ]
  },
  {
   "cell_type": "markdown",
   "metadata": {},
   "source": [
    "In sports leagues across the United States, team analytics departments have revolutionized the way that professional sports are played. In the past decade in the NBA (National Basketball Association) especially, teams are shooting more and more three-point shots, as even making them 33% of the time is as valuable as making two-point shots 50% of the time. The first league to adopt the work of analytics departments, though, was probably the MLB (Major League Baseball), as told in the book _Moneyball_ by Michael Lewis, in 2003, about the Oakland Athletics. Since then, so many more statistics have been developed and analyzed in order to predict and model success, such as the exit velocity of baseballs off of bats, pitching arsenals of pitchers, and WAR (wins above replacement). "
   ]
  },
  {
   "cell_type": "markdown",
   "metadata": {},
   "source": [
    "Another feature of the three major sports leagues in the United States (NFL, NBA, MLB) are the different rules pertaining to how much teams can spend on players each year (salary cap). The NFL has a hard salary cap set each year because of team revenue sharing, meaning that no team can have their players' \"cap hits\" be above the hard cap any given year. The NBA has a hybrid salary cap model, having both a luxury tax and a hard cap. Teams generally stay below the soft cap, but if they desire, they can spend above it, having to pay a \"luxury tax\" in addition to what they are already paying their players. However, there still is a hard salary cap limit that the teams cannot go above. Finally, the MLB has almost no salary cap rules (as there is no revenue sharing between teams), having only a \"competitive balance\" tax similar to the NBA's luxury tax, but even fewer teams go above it and there is no hard salary cap maximum. As long as a team is willing to pay in Major League Baseball, there is theoretically no spending limit per year."
   ]
  },
  {
   "cell_type": "markdown",
   "metadata": {},
   "source": [
    "#### Research Questions"
   ]
  },
  {
   "cell_type": "markdown",
   "metadata": {},
   "source": [
    "Using more standard and conventional statistics across a season (like runs scored, home-runs, etc), how well can the number of wins or even winning the division for a team be modeled and predicted? Do teams with higher payroll win more often? How effective is the competitive balance tax in the MLB? How well does regular season success predict post-season success? Using the model for wins, how impactful are/were individual players (both batters and pitchers)? Who are/were some of the most impactful individual players in the MLB? How valuable are/were individual players for their team? Who are/were some of the most valuable individual players? Were impactful and valuable individual players properly recognized by conventional awards (All-Star, Silver Slugger Award, MVP, etc)?"
   ]
  },
  {
   "cell_type": "markdown",
   "metadata": {},
   "source": [
    "#### Findings"
   ]
  },
  {
   "cell_type": "markdown",
   "metadata": {},
   "source": [
    "What I found is the following: \n",
    "- Regular season statistics are very good at predicting the number of wins a team had and pretty good at identifying division winners, but not for predicting post-season success.\n",
    "- The competitive balance tax appears to be fairly effective at maintaining parity across the MLB.\n",
    "- Individual players can be very impactful to a team, although the majority are not.\n",
    "- The most valuable players historically were those on their rookie contracts.\n",
    "- Historically great, impactful players were typically properly recognized by conventional awards, but valuable ones were not very frequently.\n",
    "- Since valuable players are often on rookie contracts, those that were very valuable often went on to become great players."
   ]
  },
  {
   "cell_type": "markdown",
   "metadata": {},
   "source": [
    "## Data Description"
   ]
  },
  {
   "cell_type": "markdown",
   "metadata": {},
   "source": [
    "After going through the data collection and cleaning process, there are 3 files in the dataset: Team Accomplishments/Statistics, Individual Batting Statistics (by season), and Individual Pitching Statistics (by season)."
   ]
  },
  {
   "cell_type": "markdown",
   "metadata": {},
   "source": [
    "The original dataset (the Lahman Baseball Database) was created in order to make baseball statistics freely available to the general public. It was launched by Sean Lahman, an investigative journalist, in 1994 and has been continuously updated since. For my purposes, I am using the data only relevant to team accomplishments/statistics, batting statistics, pitching statistics, and payroll/salary statistics."
   ]
  },
  {
   "cell_type": "markdown",
   "metadata": {},
   "source": [
    "The entire Lahman Baseball Database can be found here: http://www.seanlahman.com/baseball-archive/statistics/"
   ]
  },
  {
   "cell_type": "markdown",
   "metadata": {},
   "source": [
    "There is no individual or organization behind the funding of creating this dataset. Because it was made by Sean Lahman and various research contributors over the years with the intent to make baseball statistics available to the public for free, they took individual contributions from the public to fund and maintain the database. I do not know how much they were compensated, if at all."
   ]
  },
  {
   "cell_type": "markdown",
   "metadata": {},
   "source": [
    "For the database generally, the data appears to be the commonly discussed and used statistics in baseball (wins, losses, ERA, runs, etc). Because this is a historical archive, some of the newer \"advanced\" statistics were not recorded because they didn't exist during earlier baseball seasons. On the other hand, knowing the salaries of specific players (to get the total payroll of a team) relies on agents or teams releasing contract details, which at least for this dataset, appeared to be an issue before 1985 because no data is recorded before then. However, because this information would have to be released by only a few people, contract information presumably would be released with the consent of players and agents (as often in sports, agents release contract details of their clients to attract new ones, especially new players coming out of college). "
   ]
  },
  {
   "cell_type": "markdown",
   "metadata": {},
   "source": [
    "There is no confidential or potentially threatening/worrying data included in the dataset. The data relates to people in that as baseball players, their statistics for seasons they played in the MLB are recorded (like batting average, home-runs hit, etc) as well as their aggregate statistics for the team they played on (wins, runs, etc). Besides their name (which is public information, obviously), the most revealing information would be a player's salary for the season, but as mentioned, having this information being revealed would have to be done with the consent of the player."
   ]
  },
  {
   "cell_type": "markdown",
   "metadata": {},
   "source": [
    "The main datasets (the Team, Batting, and Pitching) were orderly preprocessed, each row being organized by year, and by team in alphabetical order (for Team set). In order to add the salary information, I pulled from the Salary file in the original dataset (not included in final sets). For the Salary file, the data was organized the same, but had the salaries of individual players for each season and team. To get the data in the form that I am using, I found the total payroll for each team's season by adding up all the player salaries for those categories, and then added a column into the team statistics dataset. For individual players (batters and pitchers), I just pulled the salary for that specific player and put it into its own column. To get more relevant statistics, I only took columns most useful for analyzing winning (wins, losses, playoff victories, runs, etc) and identification (full name of player). Finally, in the team statistics dataset, I added a column containing the Z-Score of each team's total salary for that season, by finding the mean and standard deviation of the teams' total payroll for each payroll and calculating from there (see Appendix)."
   ]
  },
  {
   "cell_type": "markdown",
   "metadata": {},
   "source": [
    "The cleaned dataset can be found in this Google Drive folder: https://drive.google.com/drive/folders/1szDfSXjKWo1Z0Xj7PecZHMpPaHyFBmYR?usp=sharing"
   ]
  },
  {
   "cell_type": "markdown",
   "metadata": {},
   "source": [
    "#### Team Statistics"
   ]
  },
  {
   "cell_type": "markdown",
   "metadata": {},
   "source": [
    "Each observation is a team's season (Example: the Milwaukee Brewers' 1990 season). Because of the availablility of salary data, I only included the seasons between 1985 and 2016 (the other statistics went from 1871 to 2020). In total, there are 918 instances. In order from left to right, the attributes (columns) are: the year, the team ID (acronym), the placement in the team's division, the total number of games played, wins, losses, whether the team won their division or not (1 if yes, 0 if no for these binary outcomes), whether the team won the league (National or American), whether the team won the World Series, the total runs scored by the team, the number of at-bats, number of hits, home-runs, walks, runs scored against, earned runs scored against, earned run average (against), outs pitched (innings pitched times 3), hits against, home-runs against, walks against, errors, fielding percentage, the full name of the team (Ex: Pittsburgh Pirates) the total payroll of the team, and the z-score of the team's total salary for that season. The postseason accomplishments (division win, league win, etc) are missing for the 1994 season, because it ended prematurely due to a players' strike."
   ]
  },
  {
   "cell_type": "markdown",
   "metadata": {},
   "source": [
    "#### Batting Statistics"
   ]
  },
  {
   "cell_type": "markdown",
   "metadata": {},
   "source": [
    "Each observation is an individual player's season (Ex: Donald William's 1985 season). Following the same guidelines as the team statistics, I am only including seasons between 1985 and 2016. In total, there are 40577 instances. In order from left to right, the attributes (columns) are: the full name of the player, the player ID, the year of the season, the teamID, the number of games played in, number of at-bats, runs scored (number of times crossing home-plate), hits, home-runs, runs-batted-in (number of players who scored at home due to this player batting; Ex: hitting a double and player scoring becuase of it would be 1 RBI), walks, and salary for the season (if the player's salary for that season was not available in the salary file in the original dataset, it is marked as a NaN)."
   ]
  },
  {
   "cell_type": "markdown",
   "metadata": {},
   "source": [
    "#### Pitching Statistics"
   ]
  },
  {
   "cell_type": "markdown",
   "metadata": {},
   "source": [
    "Each observation is an individual player's season (Ex: James Justin's 1985 season). Following the same guidelines as the others, I am only including seasons between 1985 and 2016. In total, there are 19983 instances. In order from left to right, the attributes (columns) are: the full name of the player, the player ID, year of the season, wins, losses, games pitched in, saves, number of outs pitched, hits against, earned runs against, home-runs against, walks pitched, opponent batting average, earned run average, runs against, and salary (if the player's salary for that season was not available in the salary file in the original dataset, it is marked as a NaN)."
   ]
  },
  {
   "cell_type": "markdown",
   "metadata": {},
   "source": [
    "## Pre-Registration of Analyses"
   ]
  },
  {
   "cell_type": "markdown",
   "metadata": {},
   "source": [
    "#### Analysis 1: Multivariable Linear Regression For Wins"
   ]
  },
  {
   "cell_type": "markdown",
   "metadata": {},
   "source": [
    "Using different input variables (payroll, runs scored, etc), get a linear regression for the number of wins for a team, and try to get as accurate as possible using various inputs."
   ]
  },
  {
   "cell_type": "markdown",
   "metadata": {},
   "source": [
    "#### Analysis 2: Logistic Regressions for Divsion Win and World Series Win"
   ]
  },
  {
   "cell_type": "markdown",
   "metadata": {},
   "source": [
    "Using similar (or the same) input variables for the linear regression, see how well you can predict whether a team will their division/the World Series."
   ]
  },
  {
   "cell_type": "markdown",
   "metadata": {},
   "source": [
    "## Data Analysis"
   ]
  },
  {
   "cell_type": "code",
   "execution_count": 1,
   "metadata": {},
   "outputs": [],
   "source": [
    "#Load Libraries\n",
    "import pandas as pd\n",
    "import numpy as np\n",
    "import matplotlib.pyplot as plt\n",
    "import seaborn as sns\n",
    "from sklearn.linear_model import LinearRegression\n",
    "from sklearn.linear_model import LogisticRegression\n",
    "from sklearn.model_selection import train_test_split\n",
    "from sklearn.metrics import confusion_matrix, plot_confusion_matrix, classification_report"
   ]
  },
  {
   "cell_type": "code",
   "execution_count": 2,
   "metadata": {},
   "outputs": [],
   "source": [
    "#Load CSVs\n",
    "team_data = pd.read_csv('team_data_final.csv')\n",
    "batting_data = pd.read_csv('batting_data_final.csv')\n",
    "pitching_data = pd.read_csv('pitching_data_final.csv')"
   ]
  },
  {
   "cell_type": "markdown",
   "metadata": {},
   "source": [
    "### Modeling/Predicting Wins"
   ]
  },
  {
   "cell_type": "markdown",
   "metadata": {},
   "source": [
    "How well can the amount of wins across a baseball season be modeled knowing their statistics across the season?"
   ]
  },
  {
   "cell_type": "markdown",
   "metadata": {},
   "source": [
    "Since ultimately runs are responsible for winning games, I am going to start with a baseline, multivariable linear regression for predicting the amount of wins across a season. The two inputs will be the amount of runs scored and the amount of runs given up."
   ]
  },
  {
   "cell_type": "code",
   "execution_count": 3,
   "metadata": {},
   "outputs": [
    {
     "name": "stdout",
     "output_type": "stream",
     "text": [
      "The coefficient for the amount of runs scored is 0.11262608076910778 and the coefficient for the amount of runs given up is -0.0924195985764259\n"
     ]
    }
   ],
   "source": [
    "baseline = LinearRegression().fit(team_data[['R', 'RA']], team_data['W'])\n",
    "coefficients = baseline.coef_\n",
    "print(\"The coefficient for the amount of runs scored is {} and the coefficient for the amount of runs given up is {}\".format(coefficients[0], coefficients[1]))"
   ]
  },
  {
   "cell_type": "markdown",
   "metadata": {},
   "source": [
    "Based on this baseline model, each run scored is expected to produce approximately .11 of a win, while each run given up is expected to reduce the amount of wins by approximately .09."
   ]
  },
  {
   "cell_type": "code",
   "execution_count": 4,
   "metadata": {},
   "outputs": [
    {
     "data": {
      "text/plain": [
       "0.7698955054429655"
      ]
     },
     "execution_count": 4,
     "metadata": {},
     "output_type": "execute_result"
    }
   ],
   "source": [
    "baseline.score(team_data[['R', 'RA']], team_data['W'])"
   ]
  },
  {
   "cell_type": "markdown",
   "metadata": {},
   "source": [
    "Based on the score for this model, about 77% of the variability in the amount of wins is explained by these two input variables."
   ]
  },
  {
   "cell_type": "markdown",
   "metadata": {},
   "source": [
    "To further analyze the model, plot histograms residuals of the predicted amount of wins compared to the actual, as well as the absolute difference between them."
   ]
  },
  {
   "cell_type": "code",
   "execution_count": 5,
   "metadata": {},
   "outputs": [],
   "source": [
    "first_predictions = baseline.predict(team_data[['R', 'RA']])\n",
    "residuals = first_predictions - team_data['W']\n",
    "absolute_difference = abs(first_predictions - team_data['W'])"
   ]
  },
  {
   "cell_type": "code",
   "execution_count": 6,
   "metadata": {},
   "outputs": [
    {
     "data": {
      "image/png": "[encoded data removed]",
      "text/plain": [
       "<Figure size 432x288 with 1 Axes>"
      ]
     },
     "metadata": {
      "needs_background": "light"
     },
     "output_type": "display_data"
    }
   ],
   "source": [
    "figure = sns.histplot(residuals, bins=37)\n",
    "figure.set(xlabel='Residuals', ylabel='Count')\n",
    "plt.title('Residual Plot for Predicted Wins')\n",
    "plt.show()"
   ]
  },
  {
   "cell_type": "code",
   "execution_count": 7,
   "metadata": {},
   "outputs": [
    {
     "name": "stdout",
     "output_type": "stream",
     "text": [
      "The mean of the residuals was approximately -0.0, with a standard deviation of 5.67966\n"
     ]
    }
   ],
   "source": [
    "res_mean = round(residuals.mean(), 5)\n",
    "res_std = round(residuals.std(), 5)\n",
    "print('The mean of the residuals was approximately {}, with a standard deviation of {}'.format(res_mean, res_std))"
   ]
  },
  {
   "cell_type": "code",
   "execution_count": 8,
   "metadata": {},
   "outputs": [
    {
     "data": {
      "image/png": "[encoded data removed]",
      "text/plain": [
       "<Figure size 432x288 with 1 Axes>"
      ]
     },
     "metadata": {
      "needs_background": "light"
     },
     "output_type": "display_data"
    }
   ],
   "source": [
    "figure = sns.histplot(absolute_difference, bins=25)\n",
    "figure.set(xlabel='Absolute Difference', ylabel='Count')\n",
    "plt.title('Absolute Difference of Predicted and Actual Wins')\n",
    "plt.show()"
   ]
  },
  {
   "cell_type": "code",
   "execution_count": 9,
   "metadata": {},
   "outputs": [
    {
     "name": "stdout",
     "output_type": "stream",
     "text": [
      "The mean of the absolute difference was approximately 4.10376, with a standard deviation of 3.9242\n"
     ]
    }
   ],
   "source": [
    "dif_mean = round(absolute_difference.mean(), 5)\n",
    "dif_std = round(absolute_difference.std(), 5)\n",
    "print('The mean of the absolute difference was approximately {}, with a standard deviation of {}'.format(dif_mean, dif_std))"
   ]
  },
  {
   "cell_type": "markdown",
   "metadata": {},
   "source": [
    "As seen in the histograms and score, the baseline model is already fairly good. Runs scored and runs given up explains 77% of the variability in the amount of wins. Furthermore, the model successfully predicted the exact number of wins a team won in a season over 120 times, over 1/9 of all instances in the dataset. Additionally, a lot of the predictions were within 5 games (above or below), which is very good, considering an MLB season is 162 games long. However, there were some bad misses, ranging from underpredicting 14 wins all the way to overpredicting by 24 wins."
   ]
  },
  {
   "cell_type": "markdown",
   "metadata": {},
   "source": [
    "Although this baseline model is pretty good, there is probably an even better one using some more/different input variables. After trying a lot of different ones, the best I could create (with low dimensionality) was this one:"
   ]
  },
  {
   "cell_type": "code",
   "execution_count": 10,
   "metadata": {},
   "outputs": [
    {
     "data": {
      "text/plain": [
       "0.8823957425858114"
      ]
     },
     "execution_count": 10,
     "metadata": {},
     "output_type": "execute_result"
    }
   ],
   "source": [
    "wins_model = LinearRegression().fit(team_data[['R', 'ERA', 'FP']], team_data['W'])\n",
    "wins_model.score(team_data[['R', 'ERA', 'FP']], team_data['W'])"
   ]
  },
  {
   "cell_type": "markdown",
   "metadata": {},
   "source": [
    "The inputs for this model are: runs scored, earned run average, and fielding percentage. This seems to be an effective, low dimensional model, as each input variable reflects a different aspect of the game of baseball (runs scored for batting, ERA for pitching, and fielding percentage for defense/fielding). Interestingly, the best predictor of wins (besides runs scored) was the team's earned run average, which was even better than runs given up or earned runs given up. Additionally, including fielding percentage as a third input added about .013 to the score, meaning that these inputs explained about 88.2% of the variability in the amount of wins a team had across a season, an improvement of about 11% over the baseline model."
   ]
  },
  {
   "cell_type": "code",
   "execution_count": 11,
   "metadata": {},
   "outputs": [
    {
     "name": "stdout",
     "output_type": "stream",
     "text": [
      "The coefficient for runs scored is 0.09855600952385829\n",
      "The coefficient for ERA is -16.038636015315895\n",
      "The coefficient for fielding percentage is 448.6425205424804\n"
     ]
    }
   ],
   "source": [
    "coefficients = wins_model.coef_\n",
    "print('The coefficient for runs scored is {}'.format(coefficients[0]))\n",
    "print('The coefficient for ERA is {}'.format(coefficients[1]))\n",
    "print('The coefficient for fielding percentage is {}'.format(coefficients[2]))"
   ]
  },
  {
   "cell_type": "markdown",
   "metadata": {},
   "source": [
    "Based on the coefficients for this model, each run is expected to add about .099 wins, each additional point of ERA is expected to contribute to about 16 losses across the season, and a perfect fielding percentage is expected to add about 449 wins for the season (which doesn't make sense on its own, but in tandem with the other inputs, makes the model better)."
   ]
  },
  {
   "cell_type": "markdown",
   "metadata": {},
   "source": [
    "Now evaluate the new model with residual plots:"
   ]
  },
  {
   "cell_type": "code",
   "execution_count": 12,
   "metadata": {},
   "outputs": [],
   "source": [
    "second_predictions = wins_model.predict(team_data[['R', 'ERA', 'FP']])\n",
    "residuals = second_predictions - team_data['W']\n",
    "absolute_difference = abs(second_predictions - team_data['W'])"
   ]
  },
  {
   "cell_type": "code",
   "execution_count": 13,
   "metadata": {},
   "outputs": [
    {
     "data": {
      "image/png": "[encoded data removed]",
      "text/plain": [
       "<Figure size 432x288 with 1 Axes>"
      ]
     },
     "metadata": {
      "needs_background": "light"
     },
     "output_type": "display_data"
    }
   ],
   "source": [
    "figure = sns.histplot(residuals, bins=28)\n",
    "figure.set(xlabel='Residuals', ylabel='Count')\n",
    "plt.title('Residual Plot for Predicted Wins')\n",
    "plt.show()"
   ]
  },
  {
   "cell_type": "code",
   "execution_count": 14,
   "metadata": {},
   "outputs": [
    {
     "name": "stdout",
     "output_type": "stream",
     "text": [
      "The mean of the residuals was approximately -0.0, with a standard deviation of 4.06042\n"
     ]
    }
   ],
   "source": [
    "res_mean = round(residuals.mean(), 5)\n",
    "res_std = round(residuals.std(), 5)\n",
    "print('The mean of the residuals was approximately {}, with a standard deviation of {}'.format(res_mean, res_std))"
   ]
  },
  {
   "cell_type": "code",
   "execution_count": 15,
   "metadata": {},
   "outputs": [
    {
     "data": {
      "image/png": "[encoded data removed]",
      "text/plain": [
       "<Figure size 432x288 with 1 Axes>"
      ]
     },
     "metadata": {
      "needs_background": "light"
     },
     "output_type": "display_data"
    }
   ],
   "source": [
    "figure = sns.histplot(absolute_difference, bins=15)\n",
    "figure.set(xlabel='Absolute Difference', ylabel='Count')\n",
    "plt.title('Absolute Difference of Predicted and Actual Wins')\n",
    "plt.show()"
   ]
  },
  {
   "cell_type": "code",
   "execution_count": 16,
   "metadata": {},
   "outputs": [
    {
     "name": "stdout",
     "output_type": "stream",
     "text": [
      "The mean of the absolute difference was approximately 3.26622, with a standard deviation of 2.40982\n"
     ]
    }
   ],
   "source": [
    "dif_mean = round(absolute_difference.mean(), 5)\n",
    "dif_std = round(absolute_difference.std(), 5)\n",
    "print('The mean of the absolute difference was approximately {}, with a standard deviation of {}'.format(dif_mean, dif_std))"
   ]
  },
  {
   "cell_type": "markdown",
   "metadata": {},
   "source": [
    "Looking at the residual histograms for the final model, it is pretty clear that it produces more accurate predictions. The worst prediction compared to the actual result was an overprediction of 14 wins (while the baseline model's worst was overpredicted by 24). The standard deviation of the residuals was about 4.06, which is less than the baseline's 5.68, and the mean and standard deviation absolute difference between the predictions and actual results for the new model were both lower than the baseline (means of 3.27 and 4.10 and standard deviations of 2.41 and 3.92).  "
   ]
  },
  {
   "cell_type": "markdown",
   "metadata": {},
   "source": [
    "For a final evaluation of the new model, I can use a train-test split to see if parts of the data can successfully predict other parts."
   ]
  },
  {
   "cell_type": "code",
   "execution_count": 17,
   "metadata": {},
   "outputs": [
    {
     "name": "stdout",
     "output_type": "stream",
     "text": [
      "The accuracy of the training model for the test set is: 11.73913043478261%\n"
     ]
    }
   ],
   "source": [
    "X_train, X_test, win_train, win_test = train_test_split(team_data[['R', 'ERA', 'FP']], team_data['W'], test_size=.25, random_state=15)\n",
    "train_model = LinearRegression().fit(X_train, win_train)\n",
    "predict = train_model.predict(X_test)\n",
    "#Round for more accuracy/simplicity\n",
    "for index in range(len(predict)):\n",
    "    predict[index] = round(predict[index], 0)\n",
    "accuracy = predict == win_test\n",
    "percent_correct = len(accuracy.loc[accuracy == True]) / len(accuracy) * 100\n",
    "print(\"The accuracy of the training model for the test set is: {}%\".format(percent_correct))"
   ]
  },
  {
   "cell_type": "code",
   "execution_count": 18,
   "metadata": {},
   "outputs": [
    {
     "data": {
      "text/plain": [
       "0.8910097279160147"
      ]
     },
     "execution_count": 18,
     "metadata": {},
     "output_type": "execute_result"
    }
   ],
   "source": [
    "train_model.score(X_test, win_test)"
   ]
  },
  {
   "cell_type": "markdown",
   "metadata": {},
   "source": [
    "Using the training model to predict the number of wins for teams in the test set, the model got the exact number of wins for about 11.7% of those instances and the input variables explained about 89% of the variability in the number of games won."
   ]
  },
  {
   "cell_type": "code",
   "execution_count": 19,
   "metadata": {},
   "outputs": [],
   "source": [
    "residuals = predict - win_test\n",
    "absolute_difference = abs(predict - win_test)"
   ]
  },
  {
   "cell_type": "code",
   "execution_count": 20,
   "metadata": {},
   "outputs": [
    {
     "data": {
      "image/png": "[encoded data removed]",
      "text/plain": [
       "<Figure size 432x288 with 1 Axes>"
      ]
     },
     "metadata": {
      "needs_background": "light"
     },
     "output_type": "display_data"
    }
   ],
   "source": [
    "figure = sns.histplot(residuals)\n",
    "figure.set(xlabel='Residuals', ylabel='Count')\n",
    "plt.title('Residual Plot for Predicted Wins')\n",
    "plt.show()"
   ]
  },
  {
   "cell_type": "code",
   "execution_count": 21,
   "metadata": {},
   "outputs": [
    {
     "data": {
      "image/png": "[encoded data removed]",
      "text/plain": [
       "<Figure size 432x288 with 1 Axes>"
      ]
     },
     "metadata": {
      "needs_background": "light"
     },
     "output_type": "display_data"
    }
   ],
   "source": [
    "figure = sns.histplot(absolute_difference, bins=14)\n",
    "figure.set(xlabel='Absolute Difference', ylabel='Count')\n",
    "plt.title('Absolute Difference of Predicted and Actual Wins')\n",
    "plt.show()"
   ]
  },
  {
   "cell_type": "markdown",
   "metadata": {},
   "source": [
    "Using the training set to predict teams in the test set after doing the train-test split, the residual plots look similar to that of the original model, indicating that the model is very good, and that it is not just an artifact of using all of the data."
   ]
  },
  {
   "cell_type": "markdown",
   "metadata": {},
   "source": [
    "#### Does including payroll significantly impact the regression for predicting wins?"
   ]
  },
  {
   "cell_type": "markdown",
   "metadata": {},
   "source": [
    "In order to see if the payroll of a team contributes to model in predicting regular season success (to see if the competitive balance tax is effective at balancing out the success of teams), I can add that to the existing model as an input to see if it explains any more variability in the amount of wins."
   ]
  },
  {
   "cell_type": "markdown",
   "metadata": {},
   "source": [
    "Add the Z-Score of the team's payroll as an input variable:"
   ]
  },
  {
   "cell_type": "code",
   "execution_count": 22,
   "metadata": {},
   "outputs": [
    {
     "data": {
      "text/plain": [
       "0.8828843894769919"
      ]
     },
     "execution_count": 22,
     "metadata": {},
     "output_type": "execute_result"
    }
   ],
   "source": [
    "wins_model_2 = LinearRegression().fit(team_data[['R', 'ERA', 'FP', 'Z-Score']], team_data['W'])\n",
    "wins_model_2.score(team_data[['R', 'ERA', 'FP', 'Z-Score']], team_data['W'])"
   ]
  },
  {
   "cell_type": "markdown",
   "metadata": {},
   "source": [
    "Using just the scores to compare the two models, the original model's input variables (without including Z-Score) explained about 88.24% of the variability in the number of wins a team had across a season. After including Z-Score, the variables explained 88.29%, which is quite a minimal increase. Although this means including Z-Score hardly makes the model more accurate, this could suggest that the Z-Score is colinear with the other variables, which means it would \"indirectly\" contribute to the number of wins a team has. "
   ]
  },
  {
   "cell_type": "code",
   "execution_count": 23,
   "metadata": {},
   "outputs": [
    {
     "data": {
      "image/png": "[encoded data removed]",
      "text/plain": [
       "<Figure size 432x288 with 1 Axes>"
      ]
     },
     "metadata": {
      "needs_background": "light"
     },
     "output_type": "display_data"
    }
   ],
   "source": [
    "plt.scatter(x=team_data['Z-Score'], y=team_data['R'], alpha=0.3)\n",
    "plt.xlabel(\"Z-Score of the Total Payroll for the Season\")\n",
    "plt.ylabel(\"Number of Runs\")\n",
    "plt.title(\"Comparing Z-Score to Runs\")\n",
    "plt.show()"
   ]
  },
  {
   "cell_type": "code",
   "execution_count": 24,
   "metadata": {},
   "outputs": [
    {
     "name": "stdout",
     "output_type": "stream",
     "text": [
      "The Pearson correlation between Z-Score and the number of runs is 0.23 \n"
     ]
    }
   ],
   "source": [
    "pearson = round(team_data['Z-Score'].corr(team_data['R'], method='pearson'), 2)\n",
    "print(\"The Pearson correlation between Z-Score and the number of runs is {} \".format(pearson))"
   ]
  },
  {
   "cell_type": "code",
   "execution_count": 25,
   "metadata": {},
   "outputs": [
    {
     "data": {
      "image/png": "[encoded data removed]",
      "text/plain": [
       "<Figure size 432x288 with 1 Axes>"
      ]
     },
     "metadata": {
      "needs_background": "light"
     },
     "output_type": "display_data"
    }
   ],
   "source": [
    "plt.scatter(x=team_data['Z-Score'], y=team_data['ERA'], alpha=0.3)\n",
    "plt.xlabel(\"Z-Score of the Total Payroll for the Season\")\n",
    "plt.ylabel(\"ERA\")\n",
    "plt.title(\"Comparing Z-Score to ERA\")\n",
    "plt.show()"
   ]
  },
  {
   "cell_type": "code",
   "execution_count": 26,
   "metadata": {},
   "outputs": [
    {
     "name": "stdout",
     "output_type": "stream",
     "text": [
      "The Pearson correlation between Z-Score and ERA is -0.16 \n"
     ]
    }
   ],
   "source": [
    "pearson = round(team_data['Z-Score'].corr(team_data['ERA'], method='pearson'), 2)\n",
    "print(\"The Pearson correlation between Z-Score and ERA is {} \".format(pearson))"
   ]
  },
  {
   "cell_type": "code",
   "execution_count": 27,
   "metadata": {},
   "outputs": [
    {
     "data": {
      "image/png": "[encoded data removed]",
      "text/plain": [
       "<Figure size 432x288 with 1 Axes>"
      ]
     },
     "metadata": {
      "needs_background": "light"
     },
     "output_type": "display_data"
    }
   ],
   "source": [
    "plt.scatter(x=team_data['Z-Score'], y=team_data['FP'], alpha=0.3)\n",
    "plt.xlabel(\"Z-Score of the Total Payroll for the Season\")\n",
    "plt.ylabel(\"Fielding Percentage\")\n",
    "plt.title(\"Comparing Z-Score to Fielding Percentage\")\n",
    "plt.show()"
   ]
  },
  {
   "cell_type": "code",
   "execution_count": 28,
   "metadata": {},
   "outputs": [
    {
     "name": "stdout",
     "output_type": "stream",
     "text": [
      "The Pearson correlation between Z-Score and fielding percentage is 0.17 \n"
     ]
    }
   ],
   "source": [
    "pearson = round(team_data['Z-Score'].corr(team_data['FP'], method='pearson'), 2)\n",
    "print(\"The Pearson correlation between Z-Score and fielding percentage is {} \".format(pearson))"
   ]
  },
  {
   "cell_type": "markdown",
   "metadata": {},
   "source": [
    "The Pearson correlations for Z-Score with each of the other input variables were all very low (.23 for runs, -.16 for ERA, and .17 for fielding percentage). Therefore, Z-Score is not actually individally collinear with the other input variables. But, because the Z-Score for a team's total payroll does not contribte very much to modeling wins across a season for a baseball team, this seems to suggest that the competitive balance tax has been productive at creating parity across the MLB (at least between 1985 and 2016)."
   ]
  },
  {
   "cell_type": "markdown",
   "metadata": {},
   "source": [
    "#### Modeling and Predicting Divisional and Post-Season Success, Using Regular Season Statistics"
   ]
  },
  {
   "cell_type": "markdown",
   "metadata": {},
   "source": [
    "Beyond just modeling and predicting the number of wins a team has across the season, I also want to see how well these input variables predicts both divisional and post-season success (how well does regular season statistics and success predict these outcomes?). "
   ]
  },
  {
   "cell_type": "markdown",
   "metadata": {},
   "source": [
    "First, create a logistic regression for Divisional Winning using the same input variables:"
   ]
  },
  {
   "cell_type": "code",
   "execution_count": 29,
   "metadata": {},
   "outputs": [
    {
     "data": {
      "text/plain": [
       "0.8638344226579521"
      ]
     },
     "execution_count": 29,
     "metadata": {},
     "output_type": "execute_result"
    }
   ],
   "source": [
    "div_model = LogisticRegression().fit(team_data[['R', 'ERA', 'FP']], team_data['DivWin'])\n",
    "div_model.score(team_data[['R', 'ERA', 'FP']], team_data['DivWin'])"
   ]
  },
  {
   "cell_type": "markdown",
   "metadata": {},
   "source": [
    "The logistic model for predicting divisional win for teams explains about 86.38% of the variability."
   ]
  },
  {
   "cell_type": "markdown",
   "metadata": {},
   "source": [
    "For better model evaluation, create a confusion matrix displaying predictions compared to the actual outcomes for each team:"
   ]
  },
  {
   "cell_type": "code",
   "execution_count": 30,
   "metadata": {},
   "outputs": [
    {
     "data": {
      "image/png": "[encoded data removed]",
      "text/plain": [
       "<Figure size 432x288 with 2 Axes>"
      ]
     },
     "metadata": {
      "needs_background": "light"
     },
     "output_type": "display_data"
    }
   ],
   "source": [
    "div_true = team_data['DivWin']\n",
    "div_pred = div_model.predict(team_data[['R', 'ERA', 'FP']])\n",
    "\n",
    "plot_confusion_matrix(\n",
    "    div_model, \n",
    "    team_data[['R', 'ERA', 'FP']], \n",
    "    div_true, \n",
    ")\n",
    "plt.show()"
   ]
  },
  {
   "cell_type": "code",
   "execution_count": 31,
   "metadata": {},
   "outputs": [
    {
     "name": "stdout",
     "output_type": "stream",
     "text": [
      "              precision    recall  f1-score   support\n",
      "\n",
      "           0       0.89      0.96      0.92       750\n",
      "           1       0.70      0.45      0.55       168\n",
      "\n",
      "    accuracy                           0.86       918\n",
      "   macro avg       0.79      0.70      0.73       918\n",
      "weighted avg       0.85      0.86      0.85       918\n",
      "\n"
     ]
    }
   ],
   "source": [
    "print(classification_report(div_true, div_pred))"
   ]
  },
  {
   "cell_type": "markdown",
   "metadata": {},
   "source": [
    "The model is fairly good at predicting divisional wins or losses for teams based on the same input variables from the wins model. It correctly identified 96% of teams that did not win their division, although it was not great at identifying/predicting division winners, correctly doing so only about 45% of the time. Based on how logistic regressions work, a team that won their division may not have been correctly identified, because their score was less than, but close to .5, which would mean they would have the greatest chance of winning their division (out of the five teams in it), but not greater than the 50% required to identify it as a winner; vice versa, a team may have had a greater than 50% chance of winning the division, but ended up losing because there was another strong team in the division that ended up winning it (even outcomes with a chance above 50% can not happen sometimes)."
   ]
  },
  {
   "cell_type": "markdown",
   "metadata": {},
   "source": [
    "Now, create a model for predicting a team winning their League (post-season accomplishment) using the same input variables:"
   ]
  },
  {
   "cell_type": "code",
   "execution_count": 32,
   "metadata": {},
   "outputs": [
    {
     "data": {
      "text/plain": [
       "0.9302832244008714"
      ]
     },
     "execution_count": 32,
     "metadata": {},
     "output_type": "execute_result"
    }
   ],
   "source": [
    "lg_model = LogisticRegression().fit(team_data[['R', 'ERA', 'FP']], team_data['LgWin'])\n",
    "lg_model.score(team_data[['R', 'ERA', 'FP']], team_data['LgWin'])"
   ]
  },
  {
   "cell_type": "markdown",
   "metadata": {},
   "source": [
    "The logistic model for predicting league win for teams explains about 93.03% of the variability."
   ]
  },
  {
   "cell_type": "markdown",
   "metadata": {},
   "source": [
    "For better model evaluation, create a confusion matrix displaying predictions compared to the actual outcomes for each team:"
   ]
  },
  {
   "cell_type": "code",
   "execution_count": 33,
   "metadata": {},
   "outputs": [
    {
     "data": {
      "image/png": "[encoded data removed]",
      "text/plain": [
       "<Figure size 432x288 with 2 Axes>"
      ]
     },
     "metadata": {
      "needs_background": "light"
     },
     "output_type": "display_data"
    }
   ],
   "source": [
    "lg_true = team_data['LgWin']\n",
    "lg_pred = lg_model.predict(team_data[['R', 'ERA', 'FP']])\n",
    "\n",
    "plot_confusion_matrix(\n",
    "    lg_model, \n",
    "    team_data[['R', 'ERA', 'FP']], \n",
    "    lg_true, \n",
    ")\n",
    "plt.show()"
   ]
  },
  {
   "cell_type": "code",
   "execution_count": 34,
   "metadata": {},
   "outputs": [
    {
     "name": "stdout",
     "output_type": "stream",
     "text": [
      "              precision    recall  f1-score   support\n",
      "\n",
      "           0       0.94      0.99      0.96       856\n",
      "           1       0.38      0.05      0.09        62\n",
      "\n",
      "    accuracy                           0.93       918\n",
      "   macro avg       0.66      0.52      0.52       918\n",
      "weighted avg       0.90      0.93      0.90       918\n",
      "\n"
     ]
    }
   ],
   "source": [
    "print(classification_report(lg_true, lg_pred))"
   ]
  },
  {
   "cell_type": "markdown",
   "metadata": {},
   "source": [
    "Although the score for the logistic regression modeling League wins is quite high, the model itself doesn't do a great job predicting the winners (only correctly identifying 5% of them). Because a logistic regression will predict 1 for outcomes greater than .5 chance for the outcome, yet the number of teams in each league is 15, it stands to reason that it would be very difficult for a team to have greater than a 50% chance to win the league based on regular season statistics out of a field of 15 total teams."
   ]
  },
  {
   "cell_type": "markdown",
   "metadata": {},
   "source": [
    "To create an even better model then, restrict the instances to teams that won their division (which makes up nearly all of the teams in the playoffs, besides Wild-Card teams):"
   ]
  },
  {
   "cell_type": "code",
   "execution_count": 35,
   "metadata": {},
   "outputs": [
    {
     "data": {
      "text/plain": [
       "0.7023809523809523"
      ]
     },
     "execution_count": 35,
     "metadata": {},
     "output_type": "execute_result"
    }
   ],
   "source": [
    "teams_in_post = team_data.loc[team_data['DivWin'] == 1].copy()\n",
    "lg_model_2 = LogisticRegression().fit(teams_in_post[['R', 'ERA', 'FP']], teams_in_post['LgWin'])\n",
    "lg_model_2.score(teams_in_post[['R', 'ERA', 'FP']], teams_in_post['LgWin'])"
   ]
  },
  {
   "cell_type": "markdown",
   "metadata": {},
   "source": [
    "Limiting the sample to just teams that won their division, the score decreased to about 70.24%."
   ]
  },
  {
   "cell_type": "code",
   "execution_count": 36,
   "metadata": {},
   "outputs": [
    {
     "data": {
      "image/png": "[encoded data removed]",
      "text/plain": [
       "<Figure size 432x288 with 2 Axes>"
      ]
     },
     "metadata": {
      "needs_background": "light"
     },
     "output_type": "display_data"
    }
   ],
   "source": [
    "lg_true_2 = teams_in_post['LgWin']\n",
    "lg_pred_2 = lg_model_2.predict(teams_in_post[['R', 'ERA', 'FP']])\n",
    "\n",
    "plot_confusion_matrix(\n",
    "    lg_model_2, \n",
    "    teams_in_post[['R', 'ERA', 'FP']], \n",
    "    lg_true_2, \n",
    ")\n",
    "plt.show()"
   ]
  },
  {
   "cell_type": "code",
   "execution_count": 37,
   "metadata": {},
   "outputs": [
    {
     "name": "stdout",
     "output_type": "stream",
     "text": [
      "              precision    recall  f1-score   support\n",
      "\n",
      "           0       0.70      1.00      0.83       118\n",
      "           1       0.00      0.00      0.00        50\n",
      "\n",
      "    accuracy                           0.70       168\n",
      "   macro avg       0.35      0.50      0.41       168\n",
      "weighted avg       0.49      0.70      0.58       168\n",
      "\n"
     ]
    },
    {
     "name": "stderr",
     "output_type": "stream",
     "text": [
      "C:\\Users\\brady\\anaconda3\\lib\\site-packages\\sklearn\\metrics\\_classification.py:1221: UndefinedMetricWarning: Precision and F-score are ill-defined and being set to 0.0 in labels with no predicted samples. Use `zero_division` parameter to control this behavior.\n",
      "  _warn_prf(average, modifier, msg_start, len(result))\n"
     ]
    }
   ],
   "source": [
    "print(classification_report(lg_true_2, lg_pred_2))"
   ]
  },
  {
   "cell_type": "markdown",
   "metadata": {},
   "source": [
    "Strangely enough, limiting the sample to just division winners makes the model even worse. Although it makes sense the precision for non-league winners to be worse (smaller sample), the model does not even predict a single team to win the league. This can be explained for two reasons: 1. Since the teams are all division winners, they all were very successful during the regular season, which means the differences between them in runs scored, ERA, and fielding percentage are probably not very great, so it can be very hard to distinguish between them; 2. Since playoff series are 5 games for the divisional round and 7 for the league championship, they are such small samples that a team may not produce as well as they did during the regular season in that small sample (regular season success is not the most predictive of post-season success)."
   ]
  },
  {
   "cell_type": "markdown",
   "metadata": {},
   "source": [
    "For a final logistic regression predicting post-season, use the input variables to predict World Series win:"
   ]
  },
  {
   "cell_type": "code",
   "execution_count": 38,
   "metadata": {},
   "outputs": [
    {
     "data": {
      "text/plain": [
       "0.9662309368191722"
      ]
     },
     "execution_count": 38,
     "metadata": {},
     "output_type": "execute_result"
    }
   ],
   "source": [
    "ws_model = LogisticRegression().fit(team_data[['R', 'ERA', 'FP']], team_data['WSWin'])\n",
    "ws_model.score(team_data[['R', 'ERA', 'FP']], team_data['WSWin'])"
   ]
  },
  {
   "cell_type": "code",
   "execution_count": 39,
   "metadata": {},
   "outputs": [
    {
     "data": {
      "image/png": "[encoded data removed]",
      "text/plain": [
       "<Figure size 432x288 with 2 Axes>"
      ]
     },
     "metadata": {
      "needs_background": "light"
     },
     "output_type": "display_data"
    }
   ],
   "source": [
    "ws_true = team_data['WSWin']\n",
    "ws_pred = ws_model.predict(team_data[['R', 'ERA', 'FP']])\n",
    "\n",
    "plot_confusion_matrix(\n",
    "    ws_model, \n",
    "    team_data[['R', 'ERA', 'FP']], \n",
    "    ws_true, \n",
    ")\n",
    "plt.show()"
   ]
  },
  {
   "cell_type": "markdown",
   "metadata": {},
   "source": [
    "Like the model for predicting League win, the World Series model has the same problem in not actually predicting any winners. The number of teams is for each season is the whole association (30 teams), and the differences between many teams in the post-season is probably fairly marginal (not enough difference for any one team to have a greater than 50% chance to win the World Series based on their regular season statistics)."
   ]
  },
  {
   "cell_type": "markdown",
   "metadata": {},
   "source": [
    "To get a smaller sample in an attempt to create a better model, this time limit the teams to just those that won the league (the two teams that play each other in the World Series):"
   ]
  },
  {
   "cell_type": "code",
   "execution_count": 40,
   "metadata": {},
   "outputs": [
    {
     "data": {
      "text/plain": [
       "0.5806451612903226"
      ]
     },
     "execution_count": 40,
     "metadata": {},
     "output_type": "execute_result"
    }
   ],
   "source": [
    "league_winners = team_data.loc[team_data['LgWin'] == 1].copy()\n",
    "ws_model_2 = LogisticRegression().fit(league_winners[['R', 'ERA', 'FP']], league_winners['WSWin'])\n",
    "ws_model_2.score(league_winners[['R', 'ERA', 'FP']], league_winners['WSWin'])"
   ]
  },
  {
   "cell_type": "code",
   "execution_count": 41,
   "metadata": {},
   "outputs": [
    {
     "data": {
      "image/png": "[encoded data removed]",
      "text/plain": [
       "<Figure size 432x288 with 2 Axes>"
      ]
     },
     "metadata": {
      "needs_background": "light"
     },
     "output_type": "display_data"
    }
   ],
   "source": [
    "ws_true_2 = league_winners['WSWin']\n",
    "ws_pred_2 = ws_model_2.predict(league_winners[['R', 'ERA', 'FP']])\n",
    "\n",
    "plot_confusion_matrix(\n",
    "    ws_model_2, \n",
    "    league_winners[['R', 'ERA', 'FP']], \n",
    "    ws_true_2, \n",
    ")\n",
    "plt.show()"
   ]
  },
  {
   "cell_type": "code",
   "execution_count": 42,
   "metadata": {},
   "outputs": [
    {
     "name": "stdout",
     "output_type": "stream",
     "text": [
      "              precision    recall  f1-score   support\n",
      "\n",
      "           0       0.58      0.58      0.58        31\n",
      "           1       0.58      0.58      0.58        31\n",
      "\n",
      "    accuracy                           0.58        62\n",
      "   macro avg       0.58      0.58      0.58        62\n",
      "weighted avg       0.58      0.58      0.58        62\n",
      "\n"
     ]
    }
   ],
   "source": [
    "print(classification_report(ws_true_2, ws_pred_2))"
   ]
  },
  {
   "cell_type": "markdown",
   "metadata": {},
   "source": [
    "This model does a decent job at identifying teams that won the World Series, even though it has a lower score (58% of the variability compared to almost 97%). Teams that were better in the regular season and won their league won the World Series about 58% of the time. Once again, due to the small sample size (only 7 games in the World Series), a team that was better across the 162 game season may not perform as well as the other team in a 7 game sample. Additionally, since teams that play each other in the World Series probably only had marginal differences in success during the regular season (made the playoffs and were good enough during them to win the playoff series), so this modeling and predicting seems to do about as well as one could expect."
   ]
  },
  {
   "cell_type": "markdown",
   "metadata": {},
   "source": [
    "### Impact of Individual Players"
   ]
  },
  {
   "cell_type": "markdown",
   "metadata": {},
   "source": [
    "Using the multivariate linear regression model for predicting the number of wins, the impact of individual batters and pitchers can be calculated (runs from batters and ERA from pitchers; fielding percentage cannot be used as individual player's fielding percentage is not recorded in the original database)."
   ]
  },
  {
   "cell_type": "markdown",
   "metadata": {},
   "source": [
    "#### Batters"
   ]
  },
  {
   "cell_type": "markdown",
   "metadata": {},
   "source": [
    "The first input variable for the regression is runs scored. In baseball, there are two main statistics used to measure the impact of batters for this: runs scored (the amount of times the batter crossed home plate and scored) and RBIs (runs-batted-in, or the number of runs scored in due to the batter's hitting)."
   ]
  },
  {
   "cell_type": "markdown",
   "metadata": {},
   "source": [
    "Therefore, using the coefficient associated with runs scored in the model alongside those two statistics, the number of wins contributed to by individual batters can be measured (typically referred to as Win Shares, abbreviated W-S here)."
   ]
  },
  {
   "cell_type": "markdown",
   "metadata": {},
   "source": [
    "In order to isolate solely on-base win shares, the number of home-runs hit has to be subtracted from runs scored, as a home-run is both an RBI and a run scored for the batter, so for this modeling, it will only count as an RBI."
   ]
  },
  {
   "cell_type": "code",
   "execution_count": 43,
   "metadata": {},
   "outputs": [
    {
     "data": {
      "text/html": [
       "<div>\n",
       "<style scoped>\n",
       "    .dataframe tbody tr th:only-of-type {\n",
       "        vertical-align: middle;\n",
       "    }\n",
       "\n",
       "    .dataframe tbody tr th {\n",
       "        vertical-align: top;\n",
       "    }\n",
       "\n",
       "    .dataframe thead th {\n",
       "        text-align: right;\n",
       "    }\n",
       "</style>\n",
       "<table border=\"1\" class=\"dataframe\">\n",
       "  <thead>\n",
       "    <tr style=\"text-align: right;\">\n",
       "      <th></th>\n",
       "      <th>Name</th>\n",
       "      <th>playerID</th>\n",
       "      <th>yearID</th>\n",
       "      <th>teamID</th>\n",
       "      <th>G</th>\n",
       "      <th>AB</th>\n",
       "      <th>R</th>\n",
       "      <th>H</th>\n",
       "      <th>HR</th>\n",
       "      <th>RBI</th>\n",
       "      <th>BB</th>\n",
       "      <th>Salary</th>\n",
       "      <th>RBI W-S</th>\n",
       "      <th>OnBase W-S</th>\n",
       "      <th>Total W-S</th>\n",
       "    </tr>\n",
       "  </thead>\n",
       "  <tbody>\n",
       "    <tr>\n",
       "      <th>0</th>\n",
       "      <td>Don Aase</td>\n",
       "      <td>aasedo01</td>\n",
       "      <td>1985</td>\n",
       "      <td>BAL</td>\n",
       "      <td>54</td>\n",
       "      <td>0</td>\n",
       "      <td>0</td>\n",
       "      <td>0</td>\n",
       "      <td>0</td>\n",
       "      <td>0.0</td>\n",
       "      <td>0</td>\n",
       "      <td>NaN</td>\n",
       "      <td>0.000000</td>\n",
       "      <td>0.00000</td>\n",
       "      <td>0.000000</td>\n",
       "    </tr>\n",
       "    <tr>\n",
       "      <th>1</th>\n",
       "      <td>Johnny Abrego</td>\n",
       "      <td>abregjo01</td>\n",
       "      <td>1985</td>\n",
       "      <td>CHN</td>\n",
       "      <td>6</td>\n",
       "      <td>9</td>\n",
       "      <td>0</td>\n",
       "      <td>0</td>\n",
       "      <td>0</td>\n",
       "      <td>1.0</td>\n",
       "      <td>0</td>\n",
       "      <td>NaN</td>\n",
       "      <td>0.098556</td>\n",
       "      <td>0.00000</td>\n",
       "      <td>0.098556</td>\n",
       "    </tr>\n",
       "    <tr>\n",
       "      <th>2</th>\n",
       "      <td>Jim Acker</td>\n",
       "      <td>ackerji01</td>\n",
       "      <td>1985</td>\n",
       "      <td>TOR</td>\n",
       "      <td>61</td>\n",
       "      <td>0</td>\n",
       "      <td>0</td>\n",
       "      <td>0</td>\n",
       "      <td>0</td>\n",
       "      <td>0.0</td>\n",
       "      <td>0</td>\n",
       "      <td>170000.0</td>\n",
       "      <td>0.000000</td>\n",
       "      <td>0.00000</td>\n",
       "      <td>0.000000</td>\n",
       "    </tr>\n",
       "    <tr>\n",
       "      <th>3</th>\n",
       "      <td>Ricky Adams</td>\n",
       "      <td>adamsri02</td>\n",
       "      <td>1985</td>\n",
       "      <td>SFN</td>\n",
       "      <td>54</td>\n",
       "      <td>121</td>\n",
       "      <td>12</td>\n",
       "      <td>23</td>\n",
       "      <td>2</td>\n",
       "      <td>10.0</td>\n",
       "      <td>5</td>\n",
       "      <td>NaN</td>\n",
       "      <td>0.985560</td>\n",
       "      <td>0.98556</td>\n",
       "      <td>1.971120</td>\n",
       "    </tr>\n",
       "    <tr>\n",
       "      <th>4</th>\n",
       "      <td>Juan Agosto</td>\n",
       "      <td>agostju01</td>\n",
       "      <td>1985</td>\n",
       "      <td>CHA</td>\n",
       "      <td>54</td>\n",
       "      <td>0</td>\n",
       "      <td>0</td>\n",
       "      <td>0</td>\n",
       "      <td>0</td>\n",
       "      <td>0.0</td>\n",
       "      <td>0</td>\n",
       "      <td>147500.0</td>\n",
       "      <td>0.000000</td>\n",
       "      <td>0.00000</td>\n",
       "      <td>0.000000</td>\n",
       "    </tr>\n",
       "  </tbody>\n",
       "</table>\n",
       "</div>"
      ],
      "text/plain": [
       "            Name   playerID  yearID teamID   G   AB   R   H  HR   RBI  BB  \\\n",
       "0       Don Aase   aasedo01    1985    BAL  54    0   0   0   0   0.0   0   \n",
       "1  Johnny Abrego  abregjo01    1985    CHN   6    9   0   0   0   1.0   0   \n",
       "2      Jim Acker  ackerji01    1985    TOR  61    0   0   0   0   0.0   0   \n",
       "3    Ricky Adams  adamsri02    1985    SFN  54  121  12  23   2  10.0   5   \n",
       "4    Juan Agosto  agostju01    1985    CHA  54    0   0   0   0   0.0   0   \n",
       "\n",
       "     Salary   RBI W-S  OnBase W-S  Total W-S  \n",
       "0       NaN  0.000000     0.00000   0.000000  \n",
       "1       NaN  0.098556     0.00000   0.098556  \n",
       "2  170000.0  0.000000     0.00000   0.000000  \n",
       "3       NaN  0.985560     0.98556   1.971120  \n",
       "4  147500.0  0.000000     0.00000   0.000000  "
      ]
     },
     "execution_count": 43,
     "metadata": {},
     "output_type": "execute_result"
    }
   ],
   "source": [
    "run_co = coefficients[0]\n",
    "batting_data  = batting_data[['Name', 'playerID', 'yearID', 'teamID', 'G', 'AB', 'R', 'H', 'HR', 'RBI', 'BB', 'Salary']]\n",
    "batting_data['RBI W-S'] = batting_data['RBI'] * run_co\n",
    "batting_data['OnBase W-S'] = (batting_data['R'] - batting_data['HR']) * run_co\n",
    "batting_data['Total W-S'] = batting_data['RBI W-S'] + batting_data['OnBase W-S']\n",
    "batting_data.head()"
   ]
  },
  {
   "cell_type": "markdown",
   "metadata": {},
   "source": [
    "Now, using these Win Share statistics, the best seasons by individual batters can be seen."
   ]
  },
  {
   "cell_type": "markdown",
   "metadata": {},
   "source": [
    "First, look at the top 25 individual seasons by RBI win shares (will just be top RBI seasons):"
   ]
  },
  {
   "cell_type": "code",
   "execution_count": 44,
   "metadata": {},
   "outputs": [
    {
     "data": {
      "text/html": [
       "<div>\n",
       "<style scoped>\n",
       "    .dataframe tbody tr th:only-of-type {\n",
       "        vertical-align: middle;\n",
       "    }\n",
       "\n",
       "    .dataframe tbody tr th {\n",
       "        vertical-align: top;\n",
       "    }\n",
       "\n",
       "    .dataframe thead th {\n",
       "        text-align: right;\n",
       "    }\n",
       "</style>\n",
       "<table border=\"1\" class=\"dataframe\">\n",
       "  <thead>\n",
       "    <tr style=\"text-align: right;\">\n",
       "      <th></th>\n",
       "      <th>Name</th>\n",
       "      <th>yearID</th>\n",
       "      <th>teamID</th>\n",
       "      <th>G</th>\n",
       "      <th>AB</th>\n",
       "      <th>R</th>\n",
       "      <th>H</th>\n",
       "      <th>HR</th>\n",
       "      <th>RBI</th>\n",
       "      <th>Salary</th>\n",
       "      <th>RBI W-S</th>\n",
       "      <th>RBI W-S R</th>\n",
       "    </tr>\n",
       "  </thead>\n",
       "  <tbody>\n",
       "    <tr>\n",
       "      <th>16672</th>\n",
       "      <td>Manny Ramirez</td>\n",
       "      <td>1999</td>\n",
       "      <td>CLE</td>\n",
       "      <td>147</td>\n",
       "      <td>522</td>\n",
       "      <td>131</td>\n",
       "      <td>174</td>\n",
       "      <td>44</td>\n",
       "      <td>165.0</td>\n",
       "      <td>4350000.0</td>\n",
       "      <td>16.261742</td>\n",
       "      <td>1.0</td>\n",
       "    </tr>\n",
       "    <tr>\n",
       "      <th>19531</th>\n",
       "      <td>Sammy Sosa</td>\n",
       "      <td>2001</td>\n",
       "      <td>CHN</td>\n",
       "      <td>160</td>\n",
       "      <td>577</td>\n",
       "      <td>146</td>\n",
       "      <td>189</td>\n",
       "      <td>64</td>\n",
       "      <td>160.0</td>\n",
       "      <td>12500000.0</td>\n",
       "      <td>15.768962</td>\n",
       "      <td>2.0</td>\n",
       "    </tr>\n",
       "    <tr>\n",
       "      <th>15497</th>\n",
       "      <td>Sammy Sosa</td>\n",
       "      <td>1998</td>\n",
       "      <td>CHN</td>\n",
       "      <td>159</td>\n",
       "      <td>643</td>\n",
       "      <td>134</td>\n",
       "      <td>198</td>\n",
       "      <td>66</td>\n",
       "      <td>158.0</td>\n",
       "      <td>8325000.0</td>\n",
       "      <td>15.571850</td>\n",
       "      <td>3.0</td>\n",
       "    </tr>\n",
       "    <tr>\n",
       "      <th>14802</th>\n",
       "      <td>Juan Gonzalez</td>\n",
       "      <td>1998</td>\n",
       "      <td>TEX</td>\n",
       "      <td>154</td>\n",
       "      <td>606</td>\n",
       "      <td>110</td>\n",
       "      <td>193</td>\n",
       "      <td>45</td>\n",
       "      <td>157.0</td>\n",
       "      <td>7800000.0</td>\n",
       "      <td>15.473293</td>\n",
       "      <td>4.0</td>\n",
       "    </tr>\n",
       "    <tr>\n",
       "      <th>27529</th>\n",
       "      <td>Alex Rodriguez</td>\n",
       "      <td>2007</td>\n",
       "      <td>NYA</td>\n",
       "      <td>158</td>\n",
       "      <td>583</td>\n",
       "      <td>143</td>\n",
       "      <td>183</td>\n",
       "      <td>54</td>\n",
       "      <td>156.0</td>\n",
       "      <td>22708525.0</td>\n",
       "      <td>15.374737</td>\n",
       "      <td>5.0</td>\n",
       "    </tr>\n",
       "    <tr>\n",
       "      <th>14472</th>\n",
       "      <td>Albert Belle</td>\n",
       "      <td>1998</td>\n",
       "      <td>CHA</td>\n",
       "      <td>163</td>\n",
       "      <td>609</td>\n",
       "      <td>113</td>\n",
       "      <td>200</td>\n",
       "      <td>49</td>\n",
       "      <td>152.0</td>\n",
       "      <td>10000000.0</td>\n",
       "      <td>14.980513</td>\n",
       "      <td>6.0</td>\n",
       "    </tr>\n",
       "    <tr>\n",
       "      <th>12274</th>\n",
       "      <td>Andres Galarraga</td>\n",
       "      <td>1996</td>\n",
       "      <td>COL</td>\n",
       "      <td>159</td>\n",
       "      <td>626</td>\n",
       "      <td>119</td>\n",
       "      <td>190</td>\n",
       "      <td>47</td>\n",
       "      <td>150.0</td>\n",
       "      <td>4450000.0</td>\n",
       "      <td>14.783401</td>\n",
       "      <td>8.0</td>\n",
       "    </tr>\n",
       "    <tr>\n",
       "      <th>23589</th>\n",
       "      <td>Miguel Tejada</td>\n",
       "      <td>2004</td>\n",
       "      <td>BAL</td>\n",
       "      <td>162</td>\n",
       "      <td>653</td>\n",
       "      <td>107</td>\n",
       "      <td>203</td>\n",
       "      <td>34</td>\n",
       "      <td>150.0</td>\n",
       "      <td>5000000.0</td>\n",
       "      <td>14.783401</td>\n",
       "      <td>8.0</td>\n",
       "    </tr>\n",
       "    <tr>\n",
       "      <th>25648</th>\n",
       "      <td>Ryan Howard</td>\n",
       "      <td>2006</td>\n",
       "      <td>PHI</td>\n",
       "      <td>159</td>\n",
       "      <td>581</td>\n",
       "      <td>104</td>\n",
       "      <td>182</td>\n",
       "      <td>58</td>\n",
       "      <td>149.0</td>\n",
       "      <td>355000.0</td>\n",
       "      <td>14.684845</td>\n",
       "      <td>9.0</td>\n",
       "    </tr>\n",
       "    <tr>\n",
       "      <th>16597</th>\n",
       "      <td>Rafael Palmeiro</td>\n",
       "      <td>1999</td>\n",
       "      <td>TEX</td>\n",
       "      <td>158</td>\n",
       "      <td>565</td>\n",
       "      <td>96</td>\n",
       "      <td>183</td>\n",
       "      <td>47</td>\n",
       "      <td>148.0</td>\n",
       "      <td>8849931.0</td>\n",
       "      <td>14.586289</td>\n",
       "      <td>12.0</td>\n",
       "    </tr>\n",
       "    <tr>\n",
       "      <th>11983</th>\n",
       "      <td>Albert Belle</td>\n",
       "      <td>1996</td>\n",
       "      <td>CLE</td>\n",
       "      <td>158</td>\n",
       "      <td>602</td>\n",
       "      <td>124</td>\n",
       "      <td>187</td>\n",
       "      <td>48</td>\n",
       "      <td>148.0</td>\n",
       "      <td>5700000.0</td>\n",
       "      <td>14.586289</td>\n",
       "      <td>12.0</td>\n",
       "    </tr>\n",
       "    <tr>\n",
       "      <th>24633</th>\n",
       "      <td>David Ortiz</td>\n",
       "      <td>2005</td>\n",
       "      <td>BOS</td>\n",
       "      <td>159</td>\n",
       "      <td>601</td>\n",
       "      <td>119</td>\n",
       "      <td>180</td>\n",
       "      <td>47</td>\n",
       "      <td>148.0</td>\n",
       "      <td>5250000.0</td>\n",
       "      <td>14.586289</td>\n",
       "      <td>12.0</td>\n",
       "    </tr>\n",
       "    <tr>\n",
       "      <th>13580</th>\n",
       "      <td>Ken Griffey</td>\n",
       "      <td>1997</td>\n",
       "      <td>SEA</td>\n",
       "      <td>157</td>\n",
       "      <td>608</td>\n",
       "      <td>125</td>\n",
       "      <td>185</td>\n",
       "      <td>56</td>\n",
       "      <td>147.0</td>\n",
       "      <td>7885532.0</td>\n",
       "      <td>14.487733</td>\n",
       "      <td>16.0</td>\n",
       "    </tr>\n",
       "    <tr>\n",
       "      <th>15150</th>\n",
       "      <td>Mark McGwire</td>\n",
       "      <td>1998</td>\n",
       "      <td>SLN</td>\n",
       "      <td>155</td>\n",
       "      <td>509</td>\n",
       "      <td>130</td>\n",
       "      <td>152</td>\n",
       "      <td>70</td>\n",
       "      <td>147.0</td>\n",
       "      <td>8928354.0</td>\n",
       "      <td>14.487733</td>\n",
       "      <td>16.0</td>\n",
       "    </tr>\n",
       "    <tr>\n",
       "      <th>16466</th>\n",
       "      <td>Mark McGwire</td>\n",
       "      <td>1999</td>\n",
       "      <td>SLN</td>\n",
       "      <td>153</td>\n",
       "      <td>521</td>\n",
       "      <td>118</td>\n",
       "      <td>145</td>\n",
       "      <td>65</td>\n",
       "      <td>147.0</td>\n",
       "      <td>9358667.0</td>\n",
       "      <td>14.487733</td>\n",
       "      <td>16.0</td>\n",
       "    </tr>\n",
       "    <tr>\n",
       "      <th>17519</th>\n",
       "      <td>Todd Helton</td>\n",
       "      <td>2000</td>\n",
       "      <td>COL</td>\n",
       "      <td>160</td>\n",
       "      <td>580</td>\n",
       "      <td>138</td>\n",
       "      <td>216</td>\n",
       "      <td>42</td>\n",
       "      <td>147.0</td>\n",
       "      <td>1300000.0</td>\n",
       "      <td>14.487733</td>\n",
       "      <td>16.0</td>\n",
       "    </tr>\n",
       "    <tr>\n",
       "      <th>28423</th>\n",
       "      <td>Ryan Howard</td>\n",
       "      <td>2008</td>\n",
       "      <td>PHI</td>\n",
       "      <td>162</td>\n",
       "      <td>610</td>\n",
       "      <td>105</td>\n",
       "      <td>153</td>\n",
       "      <td>48</td>\n",
       "      <td>146.0</td>\n",
       "      <td>10000000.0</td>\n",
       "      <td>14.389177</td>\n",
       "      <td>19.0</td>\n",
       "    </tr>\n",
       "    <tr>\n",
       "      <th>14824</th>\n",
       "      <td>Ken Griffey</td>\n",
       "      <td>1998</td>\n",
       "      <td>SEA</td>\n",
       "      <td>161</td>\n",
       "      <td>633</td>\n",
       "      <td>120</td>\n",
       "      <td>180</td>\n",
       "      <td>56</td>\n",
       "      <td>146.0</td>\n",
       "      <td>8153667.0</td>\n",
       "      <td>14.389177</td>\n",
       "      <td>19.0</td>\n",
       "    </tr>\n",
       "    <tr>\n",
       "      <th>18898</th>\n",
       "      <td>Todd Helton</td>\n",
       "      <td>2001</td>\n",
       "      <td>COL</td>\n",
       "      <td>159</td>\n",
       "      <td>587</td>\n",
       "      <td>132</td>\n",
       "      <td>197</td>\n",
       "      <td>49</td>\n",
       "      <td>146.0</td>\n",
       "      <td>4950000.0</td>\n",
       "      <td>14.389177</td>\n",
       "      <td>19.0</td>\n",
       "    </tr>\n",
       "    <tr>\n",
       "      <th>21338</th>\n",
       "      <td>Carlos Delgado</td>\n",
       "      <td>2003</td>\n",
       "      <td>TOR</td>\n",
       "      <td>161</td>\n",
       "      <td>570</td>\n",
       "      <td>117</td>\n",
       "      <td>172</td>\n",
       "      <td>42</td>\n",
       "      <td>145.0</td>\n",
       "      <td>18700000.0</td>\n",
       "      <td>14.290621</td>\n",
       "      <td>23.0</td>\n",
       "    </tr>\n",
       "    <tr>\n",
       "      <th>17765</th>\n",
       "      <td>Edgar Martinez</td>\n",
       "      <td>2000</td>\n",
       "      <td>SEA</td>\n",
       "      <td>153</td>\n",
       "      <td>556</td>\n",
       "      <td>100</td>\n",
       "      <td>180</td>\n",
       "      <td>37</td>\n",
       "      <td>145.0</td>\n",
       "      <td>5400000.0</td>\n",
       "      <td>14.290621</td>\n",
       "      <td>23.0</td>\n",
       "    </tr>\n",
       "    <tr>\n",
       "      <th>15359</th>\n",
       "      <td>Manny Ramirez</td>\n",
       "      <td>1998</td>\n",
       "      <td>CLE</td>\n",
       "      <td>150</td>\n",
       "      <td>571</td>\n",
       "      <td>108</td>\n",
       "      <td>168</td>\n",
       "      <td>45</td>\n",
       "      <td>145.0</td>\n",
       "      <td>2850000.0</td>\n",
       "      <td>14.290621</td>\n",
       "      <td>23.0</td>\n",
       "    </tr>\n",
       "    <tr>\n",
       "      <th>561</th>\n",
       "      <td>Don Mattingly</td>\n",
       "      <td>1985</td>\n",
       "      <td>NYA</td>\n",
       "      <td>159</td>\n",
       "      <td>652</td>\n",
       "      <td>107</td>\n",
       "      <td>211</td>\n",
       "      <td>35</td>\n",
       "      <td>145.0</td>\n",
       "      <td>455000.0</td>\n",
       "      <td>14.290621</td>\n",
       "      <td>23.0</td>\n",
       "    </tr>\n",
       "  </tbody>\n",
       "</table>\n",
       "</div>"
      ],
      "text/plain": [
       "                   Name  yearID teamID    G   AB    R    H  HR    RBI  \\\n",
       "16672     Manny Ramirez    1999    CLE  147  522  131  174  44  165.0   \n",
       "19531        Sammy Sosa    2001    CHN  160  577  146  189  64  160.0   \n",
       "15497        Sammy Sosa    1998    CHN  159  643  134  198  66  158.0   \n",
       "14802     Juan Gonzalez    1998    TEX  154  606  110  193  45  157.0   \n",
       "27529    Alex Rodriguez    2007    NYA  158  583  143  183  54  156.0   \n",
       "14472      Albert Belle    1998    CHA  163  609  113  200  49  152.0   \n",
       "12274  Andres Galarraga    1996    COL  159  626  119  190  47  150.0   \n",
       "23589     Miguel Tejada    2004    BAL  162  653  107  203  34  150.0   \n",
       "25648       Ryan Howard    2006    PHI  159  581  104  182  58  149.0   \n",
       "16597   Rafael Palmeiro    1999    TEX  158  565   96  183  47  148.0   \n",
       "11983      Albert Belle    1996    CLE  158  602  124  187  48  148.0   \n",
       "24633       David Ortiz    2005    BOS  159  601  119  180  47  148.0   \n",
       "13580       Ken Griffey    1997    SEA  157  608  125  185  56  147.0   \n",
       "15150      Mark McGwire    1998    SLN  155  509  130  152  70  147.0   \n",
       "16466      Mark McGwire    1999    SLN  153  521  118  145  65  147.0   \n",
       "17519       Todd Helton    2000    COL  160  580  138  216  42  147.0   \n",
       "28423       Ryan Howard    2008    PHI  162  610  105  153  48  146.0   \n",
       "14824       Ken Griffey    1998    SEA  161  633  120  180  56  146.0   \n",
       "18898       Todd Helton    2001    COL  159  587  132  197  49  146.0   \n",
       "21338    Carlos Delgado    2003    TOR  161  570  117  172  42  145.0   \n",
       "17765    Edgar Martinez    2000    SEA  153  556  100  180  37  145.0   \n",
       "15359     Manny Ramirez    1998    CLE  150  571  108  168  45  145.0   \n",
       "561       Don Mattingly    1985    NYA  159  652  107  211  35  145.0   \n",
       "\n",
       "           Salary    RBI W-S  RBI W-S R  \n",
       "16672   4350000.0  16.261742        1.0  \n",
       "19531  12500000.0  15.768962        2.0  \n",
       "15497   8325000.0  15.571850        3.0  \n",
       "14802   7800000.0  15.473293        4.0  \n",
       "27529  22708525.0  15.374737        5.0  \n",
       "14472  10000000.0  14.980513        6.0  \n",
       "12274   4450000.0  14.783401        8.0  \n",
       "23589   5000000.0  14.783401        8.0  \n",
       "25648    355000.0  14.684845        9.0  \n",
       "16597   8849931.0  14.586289       12.0  \n",
       "11983   5700000.0  14.586289       12.0  \n",
       "24633   5250000.0  14.586289       12.0  \n",
       "13580   7885532.0  14.487733       16.0  \n",
       "15150   8928354.0  14.487733       16.0  \n",
       "16466   9358667.0  14.487733       16.0  \n",
       "17519   1300000.0  14.487733       16.0  \n",
       "28423  10000000.0  14.389177       19.0  \n",
       "14824   8153667.0  14.389177       19.0  \n",
       "18898   4950000.0  14.389177       19.0  \n",
       "21338  18700000.0  14.290621       23.0  \n",
       "17765   5400000.0  14.290621       23.0  \n",
       "15359   2850000.0  14.290621       23.0  \n",
       "561      455000.0  14.290621       23.0  "
      ]
     },
     "execution_count": 44,
     "metadata": {},
     "output_type": "execute_result"
    }
   ],
   "source": [
    "batting_data['RBI W-S R'] = batting_data['RBI W-S'].rank(ascending=False, method='max')\n",
    "top_25_RBI = batting_data.loc[batting_data['RBI W-S R'] <= 25].copy()\n",
    "top_25_RBI = top_25_RBI[['Name', 'yearID', 'teamID', 'G', 'AB', 'R', 'H', 'HR', 'RBI', 'Salary', 'RBI W-S', 'RBI W-S R']]\n",
    "top_25_RBI.sort_values('RBI W-S R')"
   ]
  },
  {
   "cell_type": "markdown",
   "metadata": {},
   "source": [
    "Between 1985 and 2016, the top RBI season in Win Shares was Manny Ramirez's 1999 season with the Cleveland Indians, for which he was an All-Star and earned the Silver Slugger an AL Hank Aaron Award. Other notable names on this list are Sammy Sosa, Alex Rodriguez, Mark McGwire, and Todd Helton."
   ]
  },
  {
   "cell_type": "markdown",
   "metadata": {},
   "source": [
    "For reference, here is all of the batters' RBI win shares (each season):"
   ]
  },
  {
   "cell_type": "code",
   "execution_count": 45,
   "metadata": {},
   "outputs": [
    {
     "data": {
      "image/png": "[encoded data removed]",
      "text/plain": [
       "<Figure size 432x288 with 1 Axes>"
      ]
     },
     "metadata": {
      "needs_background": "light"
     },
     "output_type": "display_data"
    }
   ],
   "source": [
    "figure = sns.histplot(batting_data['RBI W-S'], bins=16)\n",
    "figure.set(xlabel='RBI Win Shares', ylabel='Count')\n",
    "plt.title('Individual Batter RBI Win Shares (each Season)')\n",
    "plt.show()"
   ]
  },
  {
   "cell_type": "markdown",
   "metadata": {},
   "source": [
    "The vast majority of batters only had seasons with RBI win shares between 0 and 1 (over 25000), which shows just how historically great the top 25 RBI win share seasons are."
   ]
  },
  {
   "cell_type": "code",
   "execution_count": 46,
   "metadata": {},
   "outputs": [
    {
     "data": {
      "text/html": [
       "<div>\n",
       "<style scoped>\n",
       "    .dataframe tbody tr th:only-of-type {\n",
       "        vertical-align: middle;\n",
       "    }\n",
       "\n",
       "    .dataframe tbody tr th {\n",
       "        vertical-align: top;\n",
       "    }\n",
       "\n",
       "    .dataframe thead th {\n",
       "        text-align: right;\n",
       "    }\n",
       "</style>\n",
       "<table border=\"1\" class=\"dataframe\">\n",
       "  <thead>\n",
       "    <tr style=\"text-align: right;\">\n",
       "      <th></th>\n",
       "      <th>Name</th>\n",
       "      <th>yearID</th>\n",
       "      <th>teamID</th>\n",
       "      <th>G</th>\n",
       "      <th>AB</th>\n",
       "      <th>R</th>\n",
       "      <th>H</th>\n",
       "      <th>HR</th>\n",
       "      <th>RBI</th>\n",
       "      <th>BB</th>\n",
       "      <th>Salary</th>\n",
       "      <th>OnBase W-S</th>\n",
       "      <th>OnBase W-S R</th>\n",
       "    </tr>\n",
       "  </thead>\n",
       "  <tbody>\n",
       "    <tr>\n",
       "      <th>12510</th>\n",
       "      <td>Chuck Knoblauch</td>\n",
       "      <td>1996</td>\n",
       "      <td>MIN</td>\n",
       "      <td>153</td>\n",
       "      <td>578</td>\n",
       "      <td>140</td>\n",
       "      <td>197</td>\n",
       "      <td>13</td>\n",
       "      <td>72.0</td>\n",
       "      <td>98</td>\n",
       "      <td>4670000.0</td>\n",
       "      <td>12.516613</td>\n",
       "      <td>1.0</td>\n",
       "    </tr>\n",
       "    <tr>\n",
       "      <th>13255</th>\n",
       "      <td>Craig Biggio</td>\n",
       "      <td>1997</td>\n",
       "      <td>HOU</td>\n",
       "      <td>162</td>\n",
       "      <td>619</td>\n",
       "      <td>146</td>\n",
       "      <td>191</td>\n",
       "      <td>22</td>\n",
       "      <td>81.0</td>\n",
       "      <td>84</td>\n",
       "      <td>6280000.0</td>\n",
       "      <td>12.220945</td>\n",
       "      <td>3.0</td>\n",
       "    </tr>\n",
       "    <tr>\n",
       "      <th>8724</th>\n",
       "      <td>Lenny Dykstra</td>\n",
       "      <td>1993</td>\n",
       "      <td>PHI</td>\n",
       "      <td>161</td>\n",
       "      <td>637</td>\n",
       "      <td>143</td>\n",
       "      <td>194</td>\n",
       "      <td>19</td>\n",
       "      <td>66.0</td>\n",
       "      <td>129</td>\n",
       "      <td>3066667.0</td>\n",
       "      <td>12.220945</td>\n",
       "      <td>3.0</td>\n",
       "    </tr>\n",
       "    <tr>\n",
       "      <th>3152</th>\n",
       "      <td>Wade Boggs</td>\n",
       "      <td>1988</td>\n",
       "      <td>BOS</td>\n",
       "      <td>155</td>\n",
       "      <td>584</td>\n",
       "      <td>128</td>\n",
       "      <td>214</td>\n",
       "      <td>5</td>\n",
       "      <td>58.0</td>\n",
       "      <td>125</td>\n",
       "      <td>1650000.0</td>\n",
       "      <td>12.122389</td>\n",
       "      <td>4.0</td>\n",
       "    </tr>\n",
       "    <tr>\n",
       "      <th>375</th>\n",
       "      <td>Rickey Henderson</td>\n",
       "      <td>1985</td>\n",
       "      <td>NYA</td>\n",
       "      <td>143</td>\n",
       "      <td>547</td>\n",
       "      <td>146</td>\n",
       "      <td>172</td>\n",
       "      <td>24</td>\n",
       "      <td>72.0</td>\n",
       "      <td>99</td>\n",
       "      <td>1470000.0</td>\n",
       "      <td>12.023833</td>\n",
       "      <td>5.0</td>\n",
       "    </tr>\n",
       "    <tr>\n",
       "      <th>17296</th>\n",
       "      <td>Johnny Damon</td>\n",
       "      <td>2000</td>\n",
       "      <td>KCA</td>\n",
       "      <td>159</td>\n",
       "      <td>655</td>\n",
       "      <td>136</td>\n",
       "      <td>214</td>\n",
       "      <td>16</td>\n",
       "      <td>88.0</td>\n",
       "      <td>65</td>\n",
       "      <td>4000000.0</td>\n",
       "      <td>11.826721</td>\n",
       "      <td>6.0</td>\n",
       "    </tr>\n",
       "    <tr>\n",
       "      <th>19562</th>\n",
       "      <td>Ichiro Suzuki</td>\n",
       "      <td>2001</td>\n",
       "      <td>SEA</td>\n",
       "      <td>157</td>\n",
       "      <td>692</td>\n",
       "      <td>127</td>\n",
       "      <td>242</td>\n",
       "      <td>8</td>\n",
       "      <td>69.0</td>\n",
       "      <td>30</td>\n",
       "      <td>5666667.0</td>\n",
       "      <td>11.728165</td>\n",
       "      <td>7.0</td>\n",
       "    </tr>\n",
       "    <tr>\n",
       "      <th>2186</th>\n",
       "      <td>Vince Coleman</td>\n",
       "      <td>1987</td>\n",
       "      <td>SLN</td>\n",
       "      <td>151</td>\n",
       "      <td>623</td>\n",
       "      <td>121</td>\n",
       "      <td>180</td>\n",
       "      <td>3</td>\n",
       "      <td>43.0</td>\n",
       "      <td>70</td>\n",
       "      <td>160000.0</td>\n",
       "      <td>11.629609</td>\n",
       "      <td>9.0</td>\n",
       "    </tr>\n",
       "    <tr>\n",
       "      <th>12553</th>\n",
       "      <td>Kenny Lofton</td>\n",
       "      <td>1996</td>\n",
       "      <td>CLE</td>\n",
       "      <td>154</td>\n",
       "      <td>662</td>\n",
       "      <td>132</td>\n",
       "      <td>210</td>\n",
       "      <td>14</td>\n",
       "      <td>67.0</td>\n",
       "      <td>61</td>\n",
       "      <td>3575000.0</td>\n",
       "      <td>11.629609</td>\n",
       "      <td>9.0</td>\n",
       "    </tr>\n",
       "    <tr>\n",
       "      <th>6960</th>\n",
       "      <td>Paul Molitor</td>\n",
       "      <td>1991</td>\n",
       "      <td>ML4</td>\n",
       "      <td>158</td>\n",
       "      <td>665</td>\n",
       "      <td>133</td>\n",
       "      <td>216</td>\n",
       "      <td>17</td>\n",
       "      <td>75.0</td>\n",
       "      <td>77</td>\n",
       "      <td>3243333.0</td>\n",
       "      <td>11.432497</td>\n",
       "      <td>10.0</td>\n",
       "    </tr>\n",
       "    <tr>\n",
       "      <th>21441</th>\n",
       "      <td>Rafael Furcal</td>\n",
       "      <td>2003</td>\n",
       "      <td>ATL</td>\n",
       "      <td>156</td>\n",
       "      <td>664</td>\n",
       "      <td>130</td>\n",
       "      <td>194</td>\n",
       "      <td>15</td>\n",
       "      <td>61.0</td>\n",
       "      <td>60</td>\n",
       "      <td>2200000.0</td>\n",
       "      <td>11.333941</td>\n",
       "      <td>13.0</td>\n",
       "    </tr>\n",
       "    <tr>\n",
       "      <th>34965</th>\n",
       "      <td>Matt Carpenter</td>\n",
       "      <td>2013</td>\n",
       "      <td>SLN</td>\n",
       "      <td>157</td>\n",
       "      <td>626</td>\n",
       "      <td>126</td>\n",
       "      <td>199</td>\n",
       "      <td>11</td>\n",
       "      <td>78.0</td>\n",
       "      <td>72</td>\n",
       "      <td>504000.0</td>\n",
       "      <td>11.333941</td>\n",
       "      <td>13.0</td>\n",
       "    </tr>\n",
       "    <tr>\n",
       "      <th>9065</th>\n",
       "      <td>Kenny Lofton</td>\n",
       "      <td>1993</td>\n",
       "      <td>CLE</td>\n",
       "      <td>148</td>\n",
       "      <td>569</td>\n",
       "      <td>116</td>\n",
       "      <td>185</td>\n",
       "      <td>1</td>\n",
       "      <td>42.0</td>\n",
       "      <td>81</td>\n",
       "      <td>450000.0</td>\n",
       "      <td>11.333941</td>\n",
       "      <td>13.0</td>\n",
       "    </tr>\n",
       "    <tr>\n",
       "      <th>15733</th>\n",
       "      <td>Roberto Alomar</td>\n",
       "      <td>1999</td>\n",
       "      <td>CLE</td>\n",
       "      <td>159</td>\n",
       "      <td>563</td>\n",
       "      <td>138</td>\n",
       "      <td>182</td>\n",
       "      <td>24</td>\n",
       "      <td>120.0</td>\n",
       "      <td>99</td>\n",
       "      <td>7049966.0</td>\n",
       "      <td>11.235385</td>\n",
       "      <td>14.0</td>\n",
       "    </tr>\n",
       "    <tr>\n",
       "      <th>3462</th>\n",
       "      <td>Rickey Henderson</td>\n",
       "      <td>1988</td>\n",
       "      <td>NYA</td>\n",
       "      <td>140</td>\n",
       "      <td>554</td>\n",
       "      <td>118</td>\n",
       "      <td>169</td>\n",
       "      <td>6</td>\n",
       "      <td>50.0</td>\n",
       "      <td>82</td>\n",
       "      <td>1770000.0</td>\n",
       "      <td>11.038273</td>\n",
       "      <td>16.0</td>\n",
       "    </tr>\n",
       "    <tr>\n",
       "      <th>2377</th>\n",
       "      <td>Tony Gwynn</td>\n",
       "      <td>1987</td>\n",
       "      <td>SDN</td>\n",
       "      <td>157</td>\n",
       "      <td>589</td>\n",
       "      <td>119</td>\n",
       "      <td>218</td>\n",
       "      <td>7</td>\n",
       "      <td>54.0</td>\n",
       "      <td>82</td>\n",
       "      <td>765000.0</td>\n",
       "      <td>11.038273</td>\n",
       "      <td>16.0</td>\n",
       "    </tr>\n",
       "    <tr>\n",
       "      <th>6432</th>\n",
       "      <td>Brett Butler</td>\n",
       "      <td>1991</td>\n",
       "      <td>LAN</td>\n",
       "      <td>161</td>\n",
       "      <td>615</td>\n",
       "      <td>112</td>\n",
       "      <td>182</td>\n",
       "      <td>2</td>\n",
       "      <td>38.0</td>\n",
       "      <td>108</td>\n",
       "      <td>2833333.0</td>\n",
       "      <td>10.841161</td>\n",
       "      <td>20.0</td>\n",
       "    </tr>\n",
       "    <tr>\n",
       "      <th>16286</th>\n",
       "      <td>Derek Jeter</td>\n",
       "      <td>1999</td>\n",
       "      <td>NYA</td>\n",
       "      <td>158</td>\n",
       "      <td>627</td>\n",
       "      <td>134</td>\n",
       "      <td>219</td>\n",
       "      <td>24</td>\n",
       "      <td>102.0</td>\n",
       "      <td>91</td>\n",
       "      <td>5000000.0</td>\n",
       "      <td>10.841161</td>\n",
       "      <td>20.0</td>\n",
       "    </tr>\n",
       "    <tr>\n",
       "      <th>4199</th>\n",
       "      <td>Wade Boggs</td>\n",
       "      <td>1989</td>\n",
       "      <td>BOS</td>\n",
       "      <td>156</td>\n",
       "      <td>621</td>\n",
       "      <td>113</td>\n",
       "      <td>205</td>\n",
       "      <td>3</td>\n",
       "      <td>54.0</td>\n",
       "      <td>107</td>\n",
       "      <td>1850000.0</td>\n",
       "      <td>10.841161</td>\n",
       "      <td>20.0</td>\n",
       "    </tr>\n",
       "    <tr>\n",
       "      <th>11919</th>\n",
       "      <td>Roberto Alomar</td>\n",
       "      <td>1996</td>\n",
       "      <td>BAL</td>\n",
       "      <td>153</td>\n",
       "      <td>588</td>\n",
       "      <td>132</td>\n",
       "      <td>193</td>\n",
       "      <td>22</td>\n",
       "      <td>94.0</td>\n",
       "      <td>90</td>\n",
       "      <td>4279379.0</td>\n",
       "      <td>10.841161</td>\n",
       "      <td>20.0</td>\n",
       "    </tr>\n",
       "    <tr>\n",
       "      <th>27538</th>\n",
       "      <td>Jimmy Rollins</td>\n",
       "      <td>2007</td>\n",
       "      <td>PHI</td>\n",
       "      <td>162</td>\n",
       "      <td>716</td>\n",
       "      <td>139</td>\n",
       "      <td>212</td>\n",
       "      <td>30</td>\n",
       "      <td>94.0</td>\n",
       "      <td>49</td>\n",
       "      <td>8000000.0</td>\n",
       "      <td>10.742605</td>\n",
       "      <td>22.0</td>\n",
       "    </tr>\n",
       "    <tr>\n",
       "      <th>29609</th>\n",
       "      <td>Chone Figgins</td>\n",
       "      <td>2009</td>\n",
       "      <td>LAA</td>\n",
       "      <td>158</td>\n",
       "      <td>615</td>\n",
       "      <td>114</td>\n",
       "      <td>183</td>\n",
       "      <td>5</td>\n",
       "      <td>54.0</td>\n",
       "      <td>101</td>\n",
       "      <td>5775000.0</td>\n",
       "      <td>10.742605</td>\n",
       "      <td>22.0</td>\n",
       "    </tr>\n",
       "  </tbody>\n",
       "</table>\n",
       "</div>"
      ],
      "text/plain": [
       "                   Name  yearID teamID    G   AB    R    H  HR    RBI   BB  \\\n",
       "12510   Chuck Knoblauch    1996    MIN  153  578  140  197  13   72.0   98   \n",
       "13255      Craig Biggio    1997    HOU  162  619  146  191  22   81.0   84   \n",
       "8724      Lenny Dykstra    1993    PHI  161  637  143  194  19   66.0  129   \n",
       "3152         Wade Boggs    1988    BOS  155  584  128  214   5   58.0  125   \n",
       "375    Rickey Henderson    1985    NYA  143  547  146  172  24   72.0   99   \n",
       "17296      Johnny Damon    2000    KCA  159  655  136  214  16   88.0   65   \n",
       "19562     Ichiro Suzuki    2001    SEA  157  692  127  242   8   69.0   30   \n",
       "2186      Vince Coleman    1987    SLN  151  623  121  180   3   43.0   70   \n",
       "12553      Kenny Lofton    1996    CLE  154  662  132  210  14   67.0   61   \n",
       "6960       Paul Molitor    1991    ML4  158  665  133  216  17   75.0   77   \n",
       "21441     Rafael Furcal    2003    ATL  156  664  130  194  15   61.0   60   \n",
       "34965    Matt Carpenter    2013    SLN  157  626  126  199  11   78.0   72   \n",
       "9065       Kenny Lofton    1993    CLE  148  569  116  185   1   42.0   81   \n",
       "15733    Roberto Alomar    1999    CLE  159  563  138  182  24  120.0   99   \n",
       "3462   Rickey Henderson    1988    NYA  140  554  118  169   6   50.0   82   \n",
       "2377         Tony Gwynn    1987    SDN  157  589  119  218   7   54.0   82   \n",
       "6432       Brett Butler    1991    LAN  161  615  112  182   2   38.0  108   \n",
       "16286       Derek Jeter    1999    NYA  158  627  134  219  24  102.0   91   \n",
       "4199         Wade Boggs    1989    BOS  156  621  113  205   3   54.0  107   \n",
       "11919    Roberto Alomar    1996    BAL  153  588  132  193  22   94.0   90   \n",
       "27538     Jimmy Rollins    2007    PHI  162  716  139  212  30   94.0   49   \n",
       "29609     Chone Figgins    2009    LAA  158  615  114  183   5   54.0  101   \n",
       "\n",
       "          Salary  OnBase W-S  OnBase W-S R  \n",
       "12510  4670000.0   12.516613           1.0  \n",
       "13255  6280000.0   12.220945           3.0  \n",
       "8724   3066667.0   12.220945           3.0  \n",
       "3152   1650000.0   12.122389           4.0  \n",
       "375    1470000.0   12.023833           5.0  \n",
       "17296  4000000.0   11.826721           6.0  \n",
       "19562  5666667.0   11.728165           7.0  \n",
       "2186    160000.0   11.629609           9.0  \n",
       "12553  3575000.0   11.629609           9.0  \n",
       "6960   3243333.0   11.432497          10.0  \n",
       "21441  2200000.0   11.333941          13.0  \n",
       "34965   504000.0   11.333941          13.0  \n",
       "9065    450000.0   11.333941          13.0  \n",
       "15733  7049966.0   11.235385          14.0  \n",
       "3462   1770000.0   11.038273          16.0  \n",
       "2377    765000.0   11.038273          16.0  \n",
       "6432   2833333.0   10.841161          20.0  \n",
       "16286  5000000.0   10.841161          20.0  \n",
       "4199   1850000.0   10.841161          20.0  \n",
       "11919  4279379.0   10.841161          20.0  \n",
       "27538  8000000.0   10.742605          22.0  \n",
       "29609  5775000.0   10.742605          22.0  "
      ]
     },
     "execution_count": 46,
     "metadata": {},
     "output_type": "execute_result"
    }
   ],
   "source": [
    "batting_data['OnBase W-S R'] = batting_data['OnBase W-S'].rank(ascending=False, method='max')\n",
    "top_25_onbase = batting_data.loc[batting_data['OnBase W-S R'] <= 25].copy()\n",
    "top_25_onbase = top_25_onbase[['Name', 'yearID', 'teamID', 'G', 'AB', 'R', 'H', 'HR', 'RBI', 'BB', 'Salary', 'OnBase W-S', 'OnBase W-S R']]\n",
    "top_25_onbase.sort_values('OnBase W-S R')"
   ]
  },
  {
   "cell_type": "markdown",
   "metadata": {},
   "source": [
    "Between 1985 and 2016, the top On-Base Win Shares was Chuck Knoblauch's 1996 season with the Minnesota Twins, where he was an All-Star. Interestingly, though, he did not earn any other awards that season for batting, missing out on a Silver Slugger award (which he won the season before and season after). Other notable names on the list are Ichiro Suzuki, Paul Molitor, and Derek Jeter."
   ]
  },
  {
   "cell_type": "markdown",
   "metadata": {},
   "source": [
    "For reference, here is all of the batters' on-base win shares (each season):"
   ]
  },
  {
   "cell_type": "code",
   "execution_count": 47,
   "metadata": {},
   "outputs": [
    {
     "data": {
      "image/png": "[encoded data removed]",
      "text/plain": [
       "<Figure size 432x288 with 1 Axes>"
      ]
     },
     "metadata": {
      "needs_background": "light"
     },
     "output_type": "display_data"
    }
   ],
   "source": [
    "figure = sns.histplot(batting_data['OnBase W-S'], bins=13)\n",
    "figure.set(xlabel='On-Base Win Shares', ylabel='Count')\n",
    "plt.title('Individual Batter On-Base Win Shares (each Season)')\n",
    "plt.show()"
   ]
  },
  {
   "cell_type": "markdown",
   "metadata": {},
   "source": [
    "This distribution is very similar to the RBI win shares; the vast majority of batters had on-base win shares between 0 and 1 in a season."
   ]
  },
  {
   "cell_type": "markdown",
   "metadata": {},
   "source": [
    "Finally, rank by total win shares to see best overall batters."
   ]
  },
  {
   "cell_type": "code",
   "execution_count": 48,
   "metadata": {},
   "outputs": [
    {
     "data": {
      "text/html": [
       "<div>\n",
       "<style scoped>\n",
       "    .dataframe tbody tr th:only-of-type {\n",
       "        vertical-align: middle;\n",
       "    }\n",
       "\n",
       "    .dataframe tbody tr th {\n",
       "        vertical-align: top;\n",
       "    }\n",
       "\n",
       "    .dataframe thead th {\n",
       "        text-align: right;\n",
       "    }\n",
       "</style>\n",
       "<table border=\"1\" class=\"dataframe\">\n",
       "  <thead>\n",
       "    <tr style=\"text-align: right;\">\n",
       "      <th></th>\n",
       "      <th>Name</th>\n",
       "      <th>playerID</th>\n",
       "      <th>yearID</th>\n",
       "      <th>teamID</th>\n",
       "      <th>G</th>\n",
       "      <th>AB</th>\n",
       "      <th>R</th>\n",
       "      <th>H</th>\n",
       "      <th>HR</th>\n",
       "      <th>RBI</th>\n",
       "      <th>BB</th>\n",
       "      <th>Salary</th>\n",
       "      <th>RBI W-S</th>\n",
       "      <th>OnBase W-S</th>\n",
       "      <th>Total W-S</th>\n",
       "      <th>RBI W-S R</th>\n",
       "      <th>OnBase W-S R</th>\n",
       "      <th>Total W-S R</th>\n",
       "    </tr>\n",
       "  </thead>\n",
       "  <tbody>\n",
       "    <tr>\n",
       "      <th>16672</th>\n",
       "      <td>Manny Ramirez</td>\n",
       "      <td>ramirma02</td>\n",
       "      <td>1999</td>\n",
       "      <td>CLE</td>\n",
       "      <td>147</td>\n",
       "      <td>522</td>\n",
       "      <td>131</td>\n",
       "      <td>174</td>\n",
       "      <td>44</td>\n",
       "      <td>165.0</td>\n",
       "      <td>96</td>\n",
       "      <td>4350000.0</td>\n",
       "      <td>16.261742</td>\n",
       "      <td>8.574373</td>\n",
       "      <td>24.836114</td>\n",
       "      <td>1.0</td>\n",
       "      <td>324.0</td>\n",
       "      <td>1.0</td>\n",
       "    </tr>\n",
       "    <tr>\n",
       "      <th>27529</th>\n",
       "      <td>Alex Rodriguez</td>\n",
       "      <td>rodrial01</td>\n",
       "      <td>2007</td>\n",
       "      <td>NYA</td>\n",
       "      <td>158</td>\n",
       "      <td>583</td>\n",
       "      <td>143</td>\n",
       "      <td>183</td>\n",
       "      <td>54</td>\n",
       "      <td>156.0</td>\n",
       "      <td>95</td>\n",
       "      <td>22708525.0</td>\n",
       "      <td>15.374737</td>\n",
       "      <td>8.771485</td>\n",
       "      <td>24.146222</td>\n",
       "      <td>5.0</td>\n",
       "      <td>270.0</td>\n",
       "      <td>2.0</td>\n",
       "    </tr>\n",
       "    <tr>\n",
       "      <th>17519</th>\n",
       "      <td>Todd Helton</td>\n",
       "      <td>heltoto01</td>\n",
       "      <td>2000</td>\n",
       "      <td>COL</td>\n",
       "      <td>160</td>\n",
       "      <td>580</td>\n",
       "      <td>138</td>\n",
       "      <td>216</td>\n",
       "      <td>42</td>\n",
       "      <td>147.0</td>\n",
       "      <td>103</td>\n",
       "      <td>1300000.0</td>\n",
       "      <td>14.487733</td>\n",
       "      <td>9.461377</td>\n",
       "      <td>23.949110</td>\n",
       "      <td>16.0</td>\n",
       "      <td>127.0</td>\n",
       "      <td>3.0</td>\n",
       "    </tr>\n",
       "    <tr>\n",
       "      <th>19531</th>\n",
       "      <td>Sammy Sosa</td>\n",
       "      <td>sosasa01</td>\n",
       "      <td>2001</td>\n",
       "      <td>CHN</td>\n",
       "      <td>160</td>\n",
       "      <td>577</td>\n",
       "      <td>146</td>\n",
       "      <td>189</td>\n",
       "      <td>64</td>\n",
       "      <td>160.0</td>\n",
       "      <td>116</td>\n",
       "      <td>12500000.0</td>\n",
       "      <td>15.768962</td>\n",
       "      <td>8.081593</td>\n",
       "      <td>23.850554</td>\n",
       "      <td>2.0</td>\n",
       "      <td>511.0</td>\n",
       "      <td>4.0</td>\n",
       "    </tr>\n",
       "    <tr>\n",
       "      <th>17066</th>\n",
       "      <td>Jeff Bagwell</td>\n",
       "      <td>bagweje01</td>\n",
       "      <td>2000</td>\n",
       "      <td>HOU</td>\n",
       "      <td>159</td>\n",
       "      <td>590</td>\n",
       "      <td>152</td>\n",
       "      <td>183</td>\n",
       "      <td>47</td>\n",
       "      <td>132.0</td>\n",
       "      <td>107</td>\n",
       "      <td>6500000.0</td>\n",
       "      <td>13.009393</td>\n",
       "      <td>10.348381</td>\n",
       "      <td>23.357774</td>\n",
       "      <td>75.0</td>\n",
       "      <td>48.0</td>\n",
       "      <td>5.0</td>\n",
       "    </tr>\n",
       "    <tr>\n",
       "      <th>15733</th>\n",
       "      <td>Roberto Alomar</td>\n",
       "      <td>alomaro01</td>\n",
       "      <td>1999</td>\n",
       "      <td>CLE</td>\n",
       "      <td>159</td>\n",
       "      <td>563</td>\n",
       "      <td>138</td>\n",
       "      <td>182</td>\n",
       "      <td>24</td>\n",
       "      <td>120.0</td>\n",
       "      <td>99</td>\n",
       "      <td>7049966.0</td>\n",
       "      <td>11.826721</td>\n",
       "      <td>11.235385</td>\n",
       "      <td>23.062106</td>\n",
       "      <td>192.0</td>\n",
       "      <td>14.0</td>\n",
       "      <td>6.0</td>\n",
       "    </tr>\n",
       "    <tr>\n",
       "      <th>12068</th>\n",
       "      <td>Ellis Burks</td>\n",
       "      <td>burksel01</td>\n",
       "      <td>1996</td>\n",
       "      <td>COL</td>\n",
       "      <td>156</td>\n",
       "      <td>613</td>\n",
       "      <td>142</td>\n",
       "      <td>211</td>\n",
       "      <td>40</td>\n",
       "      <td>128.0</td>\n",
       "      <td>61</td>\n",
       "      <td>4033333.0</td>\n",
       "      <td>12.615169</td>\n",
       "      <td>10.052713</td>\n",
       "      <td>22.667882</td>\n",
       "      <td>102.0</td>\n",
       "      <td>73.0</td>\n",
       "      <td>7.0</td>\n",
       "    </tr>\n",
       "    <tr>\n",
       "      <th>18898</th>\n",
       "      <td>Todd Helton</td>\n",
       "      <td>heltoto01</td>\n",
       "      <td>2001</td>\n",
       "      <td>COL</td>\n",
       "      <td>159</td>\n",
       "      <td>587</td>\n",
       "      <td>132</td>\n",
       "      <td>197</td>\n",
       "      <td>49</td>\n",
       "      <td>146.0</td>\n",
       "      <td>98</td>\n",
       "      <td>4950000.0</td>\n",
       "      <td>14.389177</td>\n",
       "      <td>8.180149</td>\n",
       "      <td>22.569326</td>\n",
       "      <td>19.0</td>\n",
       "      <td>470.0</td>\n",
       "      <td>8.0</td>\n",
       "    </tr>\n",
       "    <tr>\n",
       "      <th>27376</th>\n",
       "      <td>Magglio Ordonez</td>\n",
       "      <td>ordonma01</td>\n",
       "      <td>2007</td>\n",
       "      <td>DET</td>\n",
       "      <td>157</td>\n",
       "      <td>595</td>\n",
       "      <td>117</td>\n",
       "      <td>216</td>\n",
       "      <td>28</td>\n",
       "      <td>139.0</td>\n",
       "      <td>76</td>\n",
       "      <td>13200000.0</td>\n",
       "      <td>13.699285</td>\n",
       "      <td>8.771485</td>\n",
       "      <td>22.470770</td>\n",
       "      <td>47.0</td>\n",
       "      <td>270.0</td>\n",
       "      <td>10.0</td>\n",
       "    </tr>\n",
       "    <tr>\n",
       "      <th>12865</th>\n",
       "      <td>Alex Rodriguez</td>\n",
       "      <td>rodrial01</td>\n",
       "      <td>1996</td>\n",
       "      <td>SEA</td>\n",
       "      <td>146</td>\n",
       "      <td>601</td>\n",
       "      <td>141</td>\n",
       "      <td>215</td>\n",
       "      <td>36</td>\n",
       "      <td>123.0</td>\n",
       "      <td>59</td>\n",
       "      <td>442334.0</td>\n",
       "      <td>12.122389</td>\n",
       "      <td>10.348381</td>\n",
       "      <td>22.470770</td>\n",
       "      <td>156.0</td>\n",
       "      <td>48.0</td>\n",
       "      <td>10.0</td>\n",
       "    </tr>\n",
       "    <tr>\n",
       "      <th>15767</th>\n",
       "      <td>Jeff Bagwell</td>\n",
       "      <td>bagweje01</td>\n",
       "      <td>1999</td>\n",
       "      <td>HOU</td>\n",
       "      <td>162</td>\n",
       "      <td>562</td>\n",
       "      <td>143</td>\n",
       "      <td>171</td>\n",
       "      <td>42</td>\n",
       "      <td>126.0</td>\n",
       "      <td>149</td>\n",
       "      <td>6500000.0</td>\n",
       "      <td>12.418057</td>\n",
       "      <td>9.954157</td>\n",
       "      <td>22.372214</td>\n",
       "      <td>115.0</td>\n",
       "      <td>81.0</td>\n",
       "      <td>11.0</td>\n",
       "    </tr>\n",
       "    <tr>\n",
       "      <th>15497</th>\n",
       "      <td>Sammy Sosa</td>\n",
       "      <td>sosasa01</td>\n",
       "      <td>1998</td>\n",
       "      <td>CHN</td>\n",
       "      <td>159</td>\n",
       "      <td>643</td>\n",
       "      <td>134</td>\n",
       "      <td>198</td>\n",
       "      <td>66</td>\n",
       "      <td>158.0</td>\n",
       "      <td>73</td>\n",
       "      <td>8325000.0</td>\n",
       "      <td>15.571850</td>\n",
       "      <td>6.701809</td>\n",
       "      <td>22.273658</td>\n",
       "      <td>3.0</td>\n",
       "      <td>1430.0</td>\n",
       "      <td>12.0</td>\n",
       "    </tr>\n",
       "    <tr>\n",
       "      <th>18068</th>\n",
       "      <td>Alex Rodriguez</td>\n",
       "      <td>rodrial01</td>\n",
       "      <td>2000</td>\n",
       "      <td>SEA</td>\n",
       "      <td>148</td>\n",
       "      <td>554</td>\n",
       "      <td>134</td>\n",
       "      <td>175</td>\n",
       "      <td>41</td>\n",
       "      <td>132.0</td>\n",
       "      <td>100</td>\n",
       "      <td>4362500.0</td>\n",
       "      <td>13.009393</td>\n",
       "      <td>9.165709</td>\n",
       "      <td>22.175102</td>\n",
       "      <td>75.0</td>\n",
       "      <td>173.0</td>\n",
       "      <td>13.0</td>\n",
       "    </tr>\n",
       "    <tr>\n",
       "      <th>14323</th>\n",
       "      <td>Larry Walker</td>\n",
       "      <td>walkela01</td>\n",
       "      <td>1997</td>\n",
       "      <td>COL</td>\n",
       "      <td>153</td>\n",
       "      <td>568</td>\n",
       "      <td>143</td>\n",
       "      <td>208</td>\n",
       "      <td>49</td>\n",
       "      <td>130.0</td>\n",
       "      <td>78</td>\n",
       "      <td>6325000.0</td>\n",
       "      <td>12.812281</td>\n",
       "      <td>9.264265</td>\n",
       "      <td>22.076546</td>\n",
       "      <td>89.0</td>\n",
       "      <td>156.0</td>\n",
       "      <td>16.0</td>\n",
       "    </tr>\n",
       "    <tr>\n",
       "      <th>12002</th>\n",
       "      <td>Dante Bichette</td>\n",
       "      <td>bicheda01</td>\n",
       "      <td>1996</td>\n",
       "      <td>COL</td>\n",
       "      <td>159</td>\n",
       "      <td>633</td>\n",
       "      <td>114</td>\n",
       "      <td>198</td>\n",
       "      <td>31</td>\n",
       "      <td>141.0</td>\n",
       "      <td>45</td>\n",
       "      <td>3591666.0</td>\n",
       "      <td>13.896397</td>\n",
       "      <td>8.180149</td>\n",
       "      <td>22.076546</td>\n",
       "      <td>41.0</td>\n",
       "      <td>470.0</td>\n",
       "      <td>16.0</td>\n",
       "    </tr>\n",
       "    <tr>\n",
       "      <th>11983</th>\n",
       "      <td>Albert Belle</td>\n",
       "      <td>belleal01</td>\n",
       "      <td>1996</td>\n",
       "      <td>CLE</td>\n",
       "      <td>158</td>\n",
       "      <td>602</td>\n",
       "      <td>124</td>\n",
       "      <td>187</td>\n",
       "      <td>48</td>\n",
       "      <td>148.0</td>\n",
       "      <td>99</td>\n",
       "      <td>5700000.0</td>\n",
       "      <td>14.586289</td>\n",
       "      <td>7.490257</td>\n",
       "      <td>22.076546</td>\n",
       "      <td>12.0</td>\n",
       "      <td>835.0</td>\n",
       "      <td>16.0</td>\n",
       "    </tr>\n",
       "    <tr>\n",
       "      <th>23589</th>\n",
       "      <td>Miguel Tejada</td>\n",
       "      <td>tejadmi01</td>\n",
       "      <td>2004</td>\n",
       "      <td>BAL</td>\n",
       "      <td>162</td>\n",
       "      <td>653</td>\n",
       "      <td>107</td>\n",
       "      <td>203</td>\n",
       "      <td>34</td>\n",
       "      <td>150.0</td>\n",
       "      <td>48</td>\n",
       "      <td>5000000.0</td>\n",
       "      <td>14.783401</td>\n",
       "      <td>7.194589</td>\n",
       "      <td>21.977990</td>\n",
       "      <td>8.0</td>\n",
       "      <td>1034.0</td>\n",
       "      <td>17.0</td>\n",
       "    </tr>\n",
       "    <tr>\n",
       "      <th>12274</th>\n",
       "      <td>Andres Galarraga</td>\n",
       "      <td>galaran01</td>\n",
       "      <td>1996</td>\n",
       "      <td>COL</td>\n",
       "      <td>159</td>\n",
       "      <td>626</td>\n",
       "      <td>119</td>\n",
       "      <td>190</td>\n",
       "      <td>47</td>\n",
       "      <td>150.0</td>\n",
       "      <td>40</td>\n",
       "      <td>4450000.0</td>\n",
       "      <td>14.783401</td>\n",
       "      <td>7.096033</td>\n",
       "      <td>21.879434</td>\n",
       "      <td>8.0</td>\n",
       "      <td>1098.0</td>\n",
       "      <td>20.0</td>\n",
       "    </tr>\n",
       "    <tr>\n",
       "      <th>14802</th>\n",
       "      <td>Juan Gonzalez</td>\n",
       "      <td>gonzaju03</td>\n",
       "      <td>1998</td>\n",
       "      <td>TEX</td>\n",
       "      <td>154</td>\n",
       "      <td>606</td>\n",
       "      <td>110</td>\n",
       "      <td>193</td>\n",
       "      <td>45</td>\n",
       "      <td>157.0</td>\n",
       "      <td>46</td>\n",
       "      <td>7800000.0</td>\n",
       "      <td>15.473293</td>\n",
       "      <td>6.406141</td>\n",
       "      <td>21.879434</td>\n",
       "      <td>4.0</td>\n",
       "      <td>1703.0</td>\n",
       "      <td>20.0</td>\n",
       "    </tr>\n",
       "    <tr>\n",
       "      <th>18517</th>\n",
       "      <td>Bret Boone</td>\n",
       "      <td>boonebr01</td>\n",
       "      <td>2001</td>\n",
       "      <td>SEA</td>\n",
       "      <td>158</td>\n",
       "      <td>623</td>\n",
       "      <td>118</td>\n",
       "      <td>206</td>\n",
       "      <td>37</td>\n",
       "      <td>141.0</td>\n",
       "      <td>40</td>\n",
       "      <td>3250000.0</td>\n",
       "      <td>13.896397</td>\n",
       "      <td>7.983037</td>\n",
       "      <td>21.879434</td>\n",
       "      <td>41.0</td>\n",
       "      <td>564.0</td>\n",
       "      <td>20.0</td>\n",
       "    </tr>\n",
       "    <tr>\n",
       "      <th>27017</th>\n",
       "      <td>Matt Holliday</td>\n",
       "      <td>hollima01</td>\n",
       "      <td>2007</td>\n",
       "      <td>COL</td>\n",
       "      <td>158</td>\n",
       "      <td>636</td>\n",
       "      <td>120</td>\n",
       "      <td>216</td>\n",
       "      <td>36</td>\n",
       "      <td>137.0</td>\n",
       "      <td>63</td>\n",
       "      <td>4400000.0</td>\n",
       "      <td>13.502173</td>\n",
       "      <td>8.278705</td>\n",
       "      <td>21.780878</td>\n",
       "      <td>58.0</td>\n",
       "      <td>429.0</td>\n",
       "      <td>21.0</td>\n",
       "    </tr>\n",
       "    <tr>\n",
       "      <th>21338</th>\n",
       "      <td>Carlos Delgado</td>\n",
       "      <td>delgaca01</td>\n",
       "      <td>2003</td>\n",
       "      <td>TOR</td>\n",
       "      <td>161</td>\n",
       "      <td>570</td>\n",
       "      <td>117</td>\n",
       "      <td>172</td>\n",
       "      <td>42</td>\n",
       "      <td>145.0</td>\n",
       "      <td>109</td>\n",
       "      <td>18700000.0</td>\n",
       "      <td>14.290621</td>\n",
       "      <td>7.391701</td>\n",
       "      <td>21.682322</td>\n",
       "      <td>23.0</td>\n",
       "      <td>901.0</td>\n",
       "      <td>22.0</td>\n",
       "    </tr>\n",
       "    <tr>\n",
       "      <th>24633</th>\n",
       "      <td>David Ortiz</td>\n",
       "      <td>ortizda01</td>\n",
       "      <td>2005</td>\n",
       "      <td>BOS</td>\n",
       "      <td>159</td>\n",
       "      <td>601</td>\n",
       "      <td>119</td>\n",
       "      <td>180</td>\n",
       "      <td>47</td>\n",
       "      <td>148.0</td>\n",
       "      <td>102</td>\n",
       "      <td>5250000.0</td>\n",
       "      <td>14.586289</td>\n",
       "      <td>7.096033</td>\n",
       "      <td>21.682322</td>\n",
       "      <td>12.0</td>\n",
       "      <td>1098.0</td>\n",
       "      <td>24.0</td>\n",
       "    </tr>\n",
       "    <tr>\n",
       "      <th>18211</th>\n",
       "      <td>Mike Sweeney</td>\n",
       "      <td>sweenmi01</td>\n",
       "      <td>2000</td>\n",
       "      <td>KCA</td>\n",
       "      <td>159</td>\n",
       "      <td>618</td>\n",
       "      <td>105</td>\n",
       "      <td>206</td>\n",
       "      <td>29</td>\n",
       "      <td>144.0</td>\n",
       "      <td>71</td>\n",
       "      <td>2250000.0</td>\n",
       "      <td>14.192065</td>\n",
       "      <td>7.490257</td>\n",
       "      <td>21.682322</td>\n",
       "      <td>28.0</td>\n",
       "      <td>835.0</td>\n",
       "      <td>24.0</td>\n",
       "    </tr>\n",
       "  </tbody>\n",
       "</table>\n",
       "</div>"
      ],
      "text/plain": [
       "                   Name   playerID  yearID teamID    G   AB    R    H  HR  \\\n",
       "16672     Manny Ramirez  ramirma02    1999    CLE  147  522  131  174  44   \n",
       "27529    Alex Rodriguez  rodrial01    2007    NYA  158  583  143  183  54   \n",
       "17519       Todd Helton  heltoto01    2000    COL  160  580  138  216  42   \n",
       "19531        Sammy Sosa   sosasa01    2001    CHN  160  577  146  189  64   \n",
       "17066      Jeff Bagwell  bagweje01    2000    HOU  159  590  152  183  47   \n",
       "15733    Roberto Alomar  alomaro01    1999    CLE  159  563  138  182  24   \n",
       "12068       Ellis Burks  burksel01    1996    COL  156  613  142  211  40   \n",
       "18898       Todd Helton  heltoto01    2001    COL  159  587  132  197  49   \n",
       "27376   Magglio Ordonez  ordonma01    2007    DET  157  595  117  216  28   \n",
       "12865    Alex Rodriguez  rodrial01    1996    SEA  146  601  141  215  36   \n",
       "15767      Jeff Bagwell  bagweje01    1999    HOU  162  562  143  171  42   \n",
       "15497        Sammy Sosa   sosasa01    1998    CHN  159  643  134  198  66   \n",
       "18068    Alex Rodriguez  rodrial01    2000    SEA  148  554  134  175  41   \n",
       "14323      Larry Walker  walkela01    1997    COL  153  568  143  208  49   \n",
       "12002    Dante Bichette  bicheda01    1996    COL  159  633  114  198  31   \n",
       "11983      Albert Belle  belleal01    1996    CLE  158  602  124  187  48   \n",
       "23589     Miguel Tejada  tejadmi01    2004    BAL  162  653  107  203  34   \n",
       "12274  Andres Galarraga  galaran01    1996    COL  159  626  119  190  47   \n",
       "14802     Juan Gonzalez  gonzaju03    1998    TEX  154  606  110  193  45   \n",
       "18517        Bret Boone  boonebr01    2001    SEA  158  623  118  206  37   \n",
       "27017     Matt Holliday  hollima01    2007    COL  158  636  120  216  36   \n",
       "21338    Carlos Delgado  delgaca01    2003    TOR  161  570  117  172  42   \n",
       "24633       David Ortiz  ortizda01    2005    BOS  159  601  119  180  47   \n",
       "18211      Mike Sweeney  sweenmi01    2000    KCA  159  618  105  206  29   \n",
       "\n",
       "         RBI   BB      Salary    RBI W-S  OnBase W-S  Total W-S  RBI W-S R  \\\n",
       "16672  165.0   96   4350000.0  16.261742    8.574373  24.836114        1.0   \n",
       "27529  156.0   95  22708525.0  15.374737    8.771485  24.146222        5.0   \n",
       "17519  147.0  103   1300000.0  14.487733    9.461377  23.949110       16.0   \n",
       "19531  160.0  116  12500000.0  15.768962    8.081593  23.850554        2.0   \n",
       "17066  132.0  107   6500000.0  13.009393   10.348381  23.357774       75.0   \n",
       "15733  120.0   99   7049966.0  11.826721   11.235385  23.062106      192.0   \n",
       "12068  128.0   61   4033333.0  12.615169   10.052713  22.667882      102.0   \n",
       "18898  146.0   98   4950000.0  14.389177    8.180149  22.569326       19.0   \n",
       "27376  139.0   76  13200000.0  13.699285    8.771485  22.470770       47.0   \n",
       "12865  123.0   59    442334.0  12.122389   10.348381  22.470770      156.0   \n",
       "15767  126.0  149   6500000.0  12.418057    9.954157  22.372214      115.0   \n",
       "15497  158.0   73   8325000.0  15.571850    6.701809  22.273658        3.0   \n",
       "18068  132.0  100   4362500.0  13.009393    9.165709  22.175102       75.0   \n",
       "14323  130.0   78   6325000.0  12.812281    9.264265  22.076546       89.0   \n",
       "12002  141.0   45   3591666.0  13.896397    8.180149  22.076546       41.0   \n",
       "11983  148.0   99   5700000.0  14.586289    7.490257  22.076546       12.0   \n",
       "23589  150.0   48   5000000.0  14.783401    7.194589  21.977990        8.0   \n",
       "12274  150.0   40   4450000.0  14.783401    7.096033  21.879434        8.0   \n",
       "14802  157.0   46   7800000.0  15.473293    6.406141  21.879434        4.0   \n",
       "18517  141.0   40   3250000.0  13.896397    7.983037  21.879434       41.0   \n",
       "27017  137.0   63   4400000.0  13.502173    8.278705  21.780878       58.0   \n",
       "21338  145.0  109  18700000.0  14.290621    7.391701  21.682322       23.0   \n",
       "24633  148.0  102   5250000.0  14.586289    7.096033  21.682322       12.0   \n",
       "18211  144.0   71   2250000.0  14.192065    7.490257  21.682322       28.0   \n",
       "\n",
       "       OnBase W-S R  Total W-S R  \n",
       "16672         324.0          1.0  \n",
       "27529         270.0          2.0  \n",
       "17519         127.0          3.0  \n",
       "19531         511.0          4.0  \n",
       "17066          48.0          5.0  \n",
       "15733          14.0          6.0  \n",
       "12068          73.0          7.0  \n",
       "18898         470.0          8.0  \n",
       "27376         270.0         10.0  \n",
       "12865          48.0         10.0  \n",
       "15767          81.0         11.0  \n",
       "15497        1430.0         12.0  \n",
       "18068         173.0         13.0  \n",
       "14323         156.0         16.0  \n",
       "12002         470.0         16.0  \n",
       "11983         835.0         16.0  \n",
       "23589        1034.0         17.0  \n",
       "12274        1098.0         20.0  \n",
       "14802        1703.0         20.0  \n",
       "18517         564.0         20.0  \n",
       "27017         429.0         21.0  \n",
       "21338         901.0         22.0  \n",
       "24633        1098.0         24.0  \n",
       "18211         835.0         24.0  "
      ]
     },
     "execution_count": 48,
     "metadata": {},
     "output_type": "execute_result"
    }
   ],
   "source": [
    "batting_data['Total W-S R'] = batting_data['Total W-S'].rank(ascending=False, method='max')\n",
    "top_25 = batting_data.loc[batting_data['Total W-S R'] <= 25].copy()\n",
    "top_25.sort_values('Total W-S R')"
   ]
  },
  {
   "cell_type": "markdown",
   "metadata": {},
   "source": [
    "Despite being ranked 324th in on-base win shares, Manny Ramirez was first in total win shares, due to being first in RBI win shares. Other notable names in the top-25 are 14x All-Star Alex Rodriguez (2nd overall in win-shares with his 2007 season, where he won AL MVP), 5x All-Star Todd Helton, 7x All-Star Sammy Sosa, and Hall of Famers Jeff Bagwell, Roberto Alomar, and Larry Walker. Andres Galarraga was the only one who was not an All-Star for his season on this list (his 1996 season), although he did earn a Silver Slugger Award for it (which is awarded to the best batters for the season, by position). Many others also won the Silver Slugger Award for their seasons on this list, all suggesting that conventional awards were given to at least historically great seasons (the best batting seasons between 1985 and 2016) and thus properly recognized."
   ]
  },
  {
   "cell_type": "markdown",
   "metadata": {},
   "source": [
    "For a final reference, here is all of the batters' total win shares (each season):"
   ]
  },
  {
   "cell_type": "code",
   "execution_count": 49,
   "metadata": {},
   "outputs": [
    {
     "data": {
      "image/png": "[encoded data removed]",
      "text/plain": [
       "<Figure size 432x288 with 1 Axes>"
      ]
     },
     "metadata": {
      "needs_background": "light"
     },
     "output_type": "display_data"
    }
   ],
   "source": [
    "figure = sns.histplot(batting_data['Total W-S'], bins=25)\n",
    "figure.set(xlabel='Total Win Shares', ylabel='Count')\n",
    "plt.title('Individual Batter Total Win Shares (each Season)')\n",
    "plt.show()"
   ]
  },
  {
   "cell_type": "markdown",
   "metadata": {},
   "source": [
    "In looking at the entire distribution of total win shares, about 25000 batters' seasons had total win shares between 0 and 1, with a very extreme dropoff after that. There are so few batters with seasons of total win shares greater than 20 or 21 that the count doesn't even appear in the histogram count as a visible bar. Based on this distribution, the majority of players' seasons (about 25000) out of the 40577 instances had very little impact to their team's success (with win shares being between 0 and 1), but a decent amount contributed to over 10 (quite impactful in a 162 game season, especially with a 26 player roster for MLB teams)."
   ]
  },
  {
   "cell_type": "markdown",
   "metadata": {},
   "source": [
    "Finally, get the most valuable players by dividing win shares by the fraction of the player's salary out of the team's total payroll (drop players without salary reported), so lower salaries out of the team's total payroll are valued more for each win share:"
   ]
  },
  {
   "cell_type": "code",
   "execution_count": 50,
   "metadata": {},
   "outputs": [],
   "source": [
    "qualifying_batters = batting_data.copy()\n",
    "qualifying_batters = qualifying_batters.dropna()\n",
    "qualifying_batters.reset_index(drop=True, inplace=True)"
   ]
  },
  {
   "cell_type": "code",
   "execution_count": 51,
   "metadata": {},
   "outputs": [],
   "source": [
    "team_salary = []\n",
    "for index in range(len(qualifying_batters)):\n",
    "    row = qualifying_batters.iloc[index:(index+1)].copy()\n",
    "    row.reset_index(drop=True, inplace=True)\n",
    "    teamID = row['teamID'][0]\n",
    "    yearID = row['yearID'][0]\n",
    "    total_salary = team_data.loc[(team_data['teamID'] == teamID) & (team_data['yearID'] == yearID), ['TSalary']].copy()\n",
    "    total_salary.reset_index(drop=True, inplace=True)\n",
    "    info = total_salary['TSalary'][0]\n",
    "    team_salary.append(info)"
   ]
  },
  {
   "cell_type": "code",
   "execution_count": 52,
   "metadata": {},
   "outputs": [
    {
     "data": {
      "text/html": [
       "<div>\n",
       "<style scoped>\n",
       "    .dataframe tbody tr th:only-of-type {\n",
       "        vertical-align: middle;\n",
       "    }\n",
       "\n",
       "    .dataframe tbody tr th {\n",
       "        vertical-align: top;\n",
       "    }\n",
       "\n",
       "    .dataframe thead th {\n",
       "        text-align: right;\n",
       "    }\n",
       "</style>\n",
       "<table border=\"1\" class=\"dataframe\">\n",
       "  <thead>\n",
       "    <tr style=\"text-align: right;\">\n",
       "      <th></th>\n",
       "      <th>Name</th>\n",
       "      <th>playerID</th>\n",
       "      <th>yearID</th>\n",
       "      <th>teamID</th>\n",
       "      <th>G</th>\n",
       "      <th>AB</th>\n",
       "      <th>R</th>\n",
       "      <th>H</th>\n",
       "      <th>HR</th>\n",
       "      <th>RBI</th>\n",
       "      <th>...</th>\n",
       "      <th>Salary</th>\n",
       "      <th>RBI W-S</th>\n",
       "      <th>OnBase W-S</th>\n",
       "      <th>Total W-S</th>\n",
       "      <th>RBI W-S R</th>\n",
       "      <th>OnBase W-S R</th>\n",
       "      <th>Total W-S R</th>\n",
       "      <th>Fraction</th>\n",
       "      <th>Value</th>\n",
       "      <th>Value Rank</th>\n",
       "    </tr>\n",
       "  </thead>\n",
       "  <tbody>\n",
       "    <tr>\n",
       "      <th>6309</th>\n",
       "      <td>Dion James</td>\n",
       "      <td>jamesdi01</td>\n",
       "      <td>1993</td>\n",
       "      <td>NYA</td>\n",
       "      <td>115</td>\n",
       "      <td>343</td>\n",
       "      <td>62</td>\n",
       "      <td>114</td>\n",
       "      <td>7</td>\n",
       "      <td>36.0</td>\n",
       "      <td>...</td>\n",
       "      <td>0.0</td>\n",
       "      <td>3.548016</td>\n",
       "      <td>5.420581</td>\n",
       "      <td>8.968597</td>\n",
       "      <td>7111.0</td>\n",
       "      <td>2952.0</td>\n",
       "      <td>5178.0</td>\n",
       "      <td>0.000000</td>\n",
       "      <td>inf</td>\n",
       "      <td>1.0</td>\n",
       "    </tr>\n",
       "    <tr>\n",
       "      <th>14487</th>\n",
       "      <td>Albert Pujols</td>\n",
       "      <td>pujolal01</td>\n",
       "      <td>2001</td>\n",
       "      <td>SLN</td>\n",
       "      <td>161</td>\n",
       "      <td>590</td>\n",
       "      <td>112</td>\n",
       "      <td>194</td>\n",
       "      <td>37</td>\n",
       "      <td>130.0</td>\n",
       "      <td>...</td>\n",
       "      <td>200000.0</td>\n",
       "      <td>12.812281</td>\n",
       "      <td>7.391701</td>\n",
       "      <td>20.203982</td>\n",
       "      <td>89.0</td>\n",
       "      <td>901.0</td>\n",
       "      <td>75.0</td>\n",
       "      <td>0.002547</td>\n",
       "      <td>7933.935313</td>\n",
       "      <td>2.0</td>\n",
       "    </tr>\n",
       "    <tr>\n",
       "      <th>15492</th>\n",
       "      <td>Junior Spivey</td>\n",
       "      <td>spiveju01</td>\n",
       "      <td>2002</td>\n",
       "      <td>ARI</td>\n",
       "      <td>143</td>\n",
       "      <td>538</td>\n",
       "      <td>103</td>\n",
       "      <td>162</td>\n",
       "      <td>16</td>\n",
       "      <td>78.0</td>\n",
       "      <td>...</td>\n",
       "      <td>215000.0</td>\n",
       "      <td>7.687369</td>\n",
       "      <td>8.574373</td>\n",
       "      <td>16.261742</td>\n",
       "      <td>2080.0</td>\n",
       "      <td>324.0</td>\n",
       "      <td>805.0</td>\n",
       "      <td>0.002091</td>\n",
       "      <td>7776.894196</td>\n",
       "      <td>3.0</td>\n",
       "    </tr>\n",
       "    <tr>\n",
       "      <th>9231</th>\n",
       "      <td>Derek Jeter</td>\n",
       "      <td>jeterde01</td>\n",
       "      <td>1996</td>\n",
       "      <td>NYA</td>\n",
       "      <td>157</td>\n",
       "      <td>582</td>\n",
       "      <td>104</td>\n",
       "      <td>183</td>\n",
       "      <td>10</td>\n",
       "      <td>78.0</td>\n",
       "      <td>...</td>\n",
       "      <td>130000.0</td>\n",
       "      <td>7.687369</td>\n",
       "      <td>9.264265</td>\n",
       "      <td>16.951634</td>\n",
       "      <td>2080.0</td>\n",
       "      <td>156.0</td>\n",
       "      <td>593.0</td>\n",
       "      <td>0.002399</td>\n",
       "      <td>7066.456955</td>\n",
       "      <td>4.0</td>\n",
       "    </tr>\n",
       "    <tr>\n",
       "      <th>27285</th>\n",
       "      <td>Mookie Betts</td>\n",
       "      <td>bettsmo01</td>\n",
       "      <td>2016</td>\n",
       "      <td>BOS</td>\n",
       "      <td>158</td>\n",
       "      <td>672</td>\n",
       "      <td>122</td>\n",
       "      <td>214</td>\n",
       "      <td>31</td>\n",
       "      <td>113.0</td>\n",
       "      <td>...</td>\n",
       "      <td>566000.0</td>\n",
       "      <td>11.136829</td>\n",
       "      <td>8.968597</td>\n",
       "      <td>20.105426</td>\n",
       "      <td>331.0</td>\n",
       "      <td>214.0</td>\n",
       "      <td>84.0</td>\n",
       "      <td>0.003002</td>\n",
       "      <td>6697.513842</td>\n",
       "      <td>5.0</td>\n",
       "    </tr>\n",
       "    <tr>\n",
       "      <th>15086</th>\n",
       "      <td>Shea Hillenbrand</td>\n",
       "      <td>hillesh02</td>\n",
       "      <td>2002</td>\n",
       "      <td>BOS</td>\n",
       "      <td>156</td>\n",
       "      <td>634</td>\n",
       "      <td>94</td>\n",
       "      <td>186</td>\n",
       "      <td>18</td>\n",
       "      <td>83.0</td>\n",
       "      <td>...</td>\n",
       "      <td>260000.0</td>\n",
       "      <td>8.180149</td>\n",
       "      <td>7.490257</td>\n",
       "      <td>15.670406</td>\n",
       "      <td>1718.0</td>\n",
       "      <td>835.0</td>\n",
       "      <td>999.0</td>\n",
       "      <td>0.002399</td>\n",
       "      <td>6531.308093</td>\n",
       "      <td>6.0</td>\n",
       "    </tr>\n",
       "    <tr>\n",
       "      <th>19317</th>\n",
       "      <td>Robinson Cano</td>\n",
       "      <td>canoro01</td>\n",
       "      <td>2007</td>\n",
       "      <td>NYA</td>\n",
       "      <td>160</td>\n",
       "      <td>617</td>\n",
       "      <td>93</td>\n",
       "      <td>189</td>\n",
       "      <td>19</td>\n",
       "      <td>97.0</td>\n",
       "      <td>...</td>\n",
       "      <td>490800.0</td>\n",
       "      <td>9.559933</td>\n",
       "      <td>7.293145</td>\n",
       "      <td>16.853078</td>\n",
       "      <td>925.0</td>\n",
       "      <td>966.0</td>\n",
       "      <td>620.0</td>\n",
       "      <td>0.002593</td>\n",
       "      <td>6498.772162</td>\n",
       "      <td>7.0</td>\n",
       "    </tr>\n",
       "    <tr>\n",
       "      <th>27968</th>\n",
       "      <td>Corey Seager</td>\n",
       "      <td>seageco01</td>\n",
       "      <td>2016</td>\n",
       "      <td>LAN</td>\n",
       "      <td>157</td>\n",
       "      <td>627</td>\n",
       "      <td>105</td>\n",
       "      <td>193</td>\n",
       "      <td>26</td>\n",
       "      <td>72.0</td>\n",
       "      <td>...</td>\n",
       "      <td>510000.0</td>\n",
       "      <td>7.096033</td>\n",
       "      <td>7.785925</td>\n",
       "      <td>14.881957</td>\n",
       "      <td>2535.0</td>\n",
       "      <td>658.0</td>\n",
       "      <td>1377.0</td>\n",
       "      <td>0.002305</td>\n",
       "      <td>6457.263241</td>\n",
       "      <td>8.0</td>\n",
       "    </tr>\n",
       "    <tr>\n",
       "      <th>14286</th>\n",
       "      <td>Paul Lo Duca</td>\n",
       "      <td>loducpa01</td>\n",
       "      <td>2001</td>\n",
       "      <td>LAN</td>\n",
       "      <td>125</td>\n",
       "      <td>460</td>\n",
       "      <td>71</td>\n",
       "      <td>147</td>\n",
       "      <td>25</td>\n",
       "      <td>90.0</td>\n",
       "      <td>...</td>\n",
       "      <td>230000.0</td>\n",
       "      <td>8.870041</td>\n",
       "      <td>4.533576</td>\n",
       "      <td>13.403617</td>\n",
       "      <td>1263.0</td>\n",
       "      <td>4307.0</td>\n",
       "      <td>2141.0</td>\n",
       "      <td>0.002108</td>\n",
       "      <td>6358.323646</td>\n",
       "      <td>9.0</td>\n",
       "    </tr>\n",
       "    <tr>\n",
       "      <th>18407</th>\n",
       "      <td>Robinson Cano</td>\n",
       "      <td>canoro01</td>\n",
       "      <td>2006</td>\n",
       "      <td>NYA</td>\n",
       "      <td>122</td>\n",
       "      <td>482</td>\n",
       "      <td>62</td>\n",
       "      <td>165</td>\n",
       "      <td>15</td>\n",
       "      <td>78.0</td>\n",
       "      <td>...</td>\n",
       "      <td>381000.0</td>\n",
       "      <td>7.687369</td>\n",
       "      <td>4.632132</td>\n",
       "      <td>12.319501</td>\n",
       "      <td>2080.0</td>\n",
       "      <td>4143.0</td>\n",
       "      <td>2825.0</td>\n",
       "      <td>0.001957</td>\n",
       "      <td>6294.362293</td>\n",
       "      <td>10.0</td>\n",
       "    </tr>\n",
       "    <tr>\n",
       "      <th>22133</th>\n",
       "      <td>Brett Gardner</td>\n",
       "      <td>gardnbr01</td>\n",
       "      <td>2010</td>\n",
       "      <td>NYA</td>\n",
       "      <td>150</td>\n",
       "      <td>477</td>\n",
       "      <td>97</td>\n",
       "      <td>132</td>\n",
       "      <td>5</td>\n",
       "      <td>47.0</td>\n",
       "      <td>...</td>\n",
       "      <td>452500.0</td>\n",
       "      <td>4.632132</td>\n",
       "      <td>9.067153</td>\n",
       "      <td>13.699285</td>\n",
       "      <td>5406.0</td>\n",
       "      <td>197.0</td>\n",
       "      <td>1996.0</td>\n",
       "      <td>0.002193</td>\n",
       "      <td>6246.673962</td>\n",
       "      <td>11.0</td>\n",
       "    </tr>\n",
       "    <tr>\n",
       "      <th>8220</th>\n",
       "      <td>Chipper Jones</td>\n",
       "      <td>jonesch06</td>\n",
       "      <td>1995</td>\n",
       "      <td>ATL</td>\n",
       "      <td>140</td>\n",
       "      <td>524</td>\n",
       "      <td>87</td>\n",
       "      <td>139</td>\n",
       "      <td>23</td>\n",
       "      <td>86.0</td>\n",
       "      <td>...</td>\n",
       "      <td>114000.0</td>\n",
       "      <td>8.475817</td>\n",
       "      <td>6.307585</td>\n",
       "      <td>14.783401</td>\n",
       "      <td>1502.0</td>\n",
       "      <td>1794.0</td>\n",
       "      <td>1412.0</td>\n",
       "      <td>0.002413</td>\n",
       "      <td>6125.443378</td>\n",
       "      <td>12.0</td>\n",
       "    </tr>\n",
       "    <tr>\n",
       "      <th>10544</th>\n",
       "      <td>Edgar Renteria</td>\n",
       "      <td>renteed01</td>\n",
       "      <td>1997</td>\n",
       "      <td>FLO</td>\n",
       "      <td>154</td>\n",
       "      <td>617</td>\n",
       "      <td>90</td>\n",
       "      <td>171</td>\n",
       "      <td>4</td>\n",
       "      <td>52.0</td>\n",
       "      <td>...</td>\n",
       "      <td>109500.0</td>\n",
       "      <td>5.124912</td>\n",
       "      <td>8.475817</td>\n",
       "      <td>13.600729</td>\n",
       "      <td>4653.0</td>\n",
       "      <td>357.0</td>\n",
       "      <td>2057.0</td>\n",
       "      <td>0.002249</td>\n",
       "      <td>6047.977280</td>\n",
       "      <td>13.0</td>\n",
       "    </tr>\n",
       "    <tr>\n",
       "      <th>15088</th>\n",
       "      <td>Eric Hinske</td>\n",
       "      <td>hinsker01</td>\n",
       "      <td>2002</td>\n",
       "      <td>TOR</td>\n",
       "      <td>151</td>\n",
       "      <td>566</td>\n",
       "      <td>99</td>\n",
       "      <td>158</td>\n",
       "      <td>24</td>\n",
       "      <td>84.0</td>\n",
       "      <td>...</td>\n",
       "      <td>200000.0</td>\n",
       "      <td>8.278705</td>\n",
       "      <td>7.391701</td>\n",
       "      <td>15.670406</td>\n",
       "      <td>1645.0</td>\n",
       "      <td>901.0</td>\n",
       "      <td>1028.0</td>\n",
       "      <td>0.002602</td>\n",
       "      <td>6022.476338</td>\n",
       "      <td>14.0</td>\n",
       "    </tr>\n",
       "    <tr>\n",
       "      <th>19306</th>\n",
       "      <td>Melky Cabrera</td>\n",
       "      <td>cabreme01</td>\n",
       "      <td>2007</td>\n",
       "      <td>NYA</td>\n",
       "      <td>150</td>\n",
       "      <td>545</td>\n",
       "      <td>66</td>\n",
       "      <td>149</td>\n",
       "      <td>8</td>\n",
       "      <td>73.0</td>\n",
       "      <td>...</td>\n",
       "      <td>432400.0</td>\n",
       "      <td>7.194589</td>\n",
       "      <td>5.716249</td>\n",
       "      <td>12.910837</td>\n",
       "      <td>2431.0</td>\n",
       "      <td>2521.0</td>\n",
       "      <td>2451.0</td>\n",
       "      <td>0.002285</td>\n",
       "      <td>5651.000758</td>\n",
       "      <td>15.0</td>\n",
       "    </tr>\n",
       "    <tr>\n",
       "      <th>15582</th>\n",
       "      <td>Vernon Wells</td>\n",
       "      <td>wellsve01</td>\n",
       "      <td>2002</td>\n",
       "      <td>TOR</td>\n",
       "      <td>159</td>\n",
       "      <td>608</td>\n",
       "      <td>87</td>\n",
       "      <td>167</td>\n",
       "      <td>23</td>\n",
       "      <td>100.0</td>\n",
       "      <td>...</td>\n",
       "      <td>221000.0</td>\n",
       "      <td>9.855601</td>\n",
       "      <td>6.307585</td>\n",
       "      <td>16.163186</td>\n",
       "      <td>812.0</td>\n",
       "      <td>1794.0</td>\n",
       "      <td>819.0</td>\n",
       "      <td>0.002875</td>\n",
       "      <td>5621.594920</td>\n",
       "      <td>16.0</td>\n",
       "    </tr>\n",
       "    <tr>\n",
       "      <th>15127</th>\n",
       "      <td>Nick Johnson</td>\n",
       "      <td>johnsni01</td>\n",
       "      <td>2002</td>\n",
       "      <td>NYA</td>\n",
       "      <td>129</td>\n",
       "      <td>378</td>\n",
       "      <td>56</td>\n",
       "      <td>92</td>\n",
       "      <td>15</td>\n",
       "      <td>58.0</td>\n",
       "      <td>...</td>\n",
       "      <td>220650.0</td>\n",
       "      <td>5.716249</td>\n",
       "      <td>4.040796</td>\n",
       "      <td>9.757045</td>\n",
       "      <td>3906.0</td>\n",
       "      <td>5196.0</td>\n",
       "      <td>4583.0</td>\n",
       "      <td>0.001752</td>\n",
       "      <td>5568.505977</td>\n",
       "      <td>17.0</td>\n",
       "    </tr>\n",
       "    <tr>\n",
       "      <th>10095</th>\n",
       "      <td>Nomar Garciaparra</td>\n",
       "      <td>garcino01</td>\n",
       "      <td>1997</td>\n",
       "      <td>BOS</td>\n",
       "      <td>153</td>\n",
       "      <td>684</td>\n",
       "      <td>122</td>\n",
       "      <td>209</td>\n",
       "      <td>30</td>\n",
       "      <td>98.0</td>\n",
       "      <td>...</td>\n",
       "      <td>150000.0</td>\n",
       "      <td>9.658489</td>\n",
       "      <td>9.067153</td>\n",
       "      <td>18.725642</td>\n",
       "      <td>890.0</td>\n",
       "      <td>197.0</td>\n",
       "      <td>237.0</td>\n",
       "      <td>0.003444</td>\n",
       "      <td>5437.770334</td>\n",
       "      <td>18.0</td>\n",
       "    </tr>\n",
       "    <tr>\n",
       "      <th>15626</th>\n",
       "      <td>Michael Young</td>\n",
       "      <td>youngmi02</td>\n",
       "      <td>2002</td>\n",
       "      <td>TEX</td>\n",
       "      <td>156</td>\n",
       "      <td>573</td>\n",
       "      <td>77</td>\n",
       "      <td>150</td>\n",
       "      <td>9</td>\n",
       "      <td>62.0</td>\n",
       "      <td>...</td>\n",
       "      <td>250000.0</td>\n",
       "      <td>6.110473</td>\n",
       "      <td>6.701809</td>\n",
       "      <td>12.812281</td>\n",
       "      <td>3458.0</td>\n",
       "      <td>1430.0</td>\n",
       "      <td>2514.0</td>\n",
       "      <td>0.002369</td>\n",
       "      <td>5408.121412</td>\n",
       "      <td>19.0</td>\n",
       "    </tr>\n",
       "    <tr>\n",
       "      <th>18268</th>\n",
       "      <td>David Wright</td>\n",
       "      <td>wrighda03</td>\n",
       "      <td>2005</td>\n",
       "      <td>NYN</td>\n",
       "      <td>160</td>\n",
       "      <td>575</td>\n",
       "      <td>99</td>\n",
       "      <td>176</td>\n",
       "      <td>27</td>\n",
       "      <td>102.0</td>\n",
       "      <td>...</td>\n",
       "      <td>322500.0</td>\n",
       "      <td>10.052713</td>\n",
       "      <td>7.096033</td>\n",
       "      <td>17.148746</td>\n",
       "      <td>712.0</td>\n",
       "      <td>1098.0</td>\n",
       "      <td>537.0</td>\n",
       "      <td>0.003183</td>\n",
       "      <td>5386.876769</td>\n",
       "      <td>20.0</td>\n",
       "    </tr>\n",
       "    <tr>\n",
       "      <th>19185</th>\n",
       "      <td>Kevin Youkilis</td>\n",
       "      <td>youklke01</td>\n",
       "      <td>2006</td>\n",
       "      <td>BOS</td>\n",
       "      <td>147</td>\n",
       "      <td>569</td>\n",
       "      <td>100</td>\n",
       "      <td>159</td>\n",
       "      <td>13</td>\n",
       "      <td>72.0</td>\n",
       "      <td>...</td>\n",
       "      <td>354600.0</td>\n",
       "      <td>7.096033</td>\n",
       "      <td>8.574373</td>\n",
       "      <td>15.670406</td>\n",
       "      <td>2535.0</td>\n",
       "      <td>324.0</td>\n",
       "      <td>1028.0</td>\n",
       "      <td>0.002953</td>\n",
       "      <td>5307.425111</td>\n",
       "      <td>21.0</td>\n",
       "    </tr>\n",
       "    <tr>\n",
       "      <th>20713</th>\n",
       "      <td>Dustin Pedroia</td>\n",
       "      <td>pedrodu01</td>\n",
       "      <td>2008</td>\n",
       "      <td>BOS</td>\n",
       "      <td>157</td>\n",
       "      <td>653</td>\n",
       "      <td>118</td>\n",
       "      <td>213</td>\n",
       "      <td>17</td>\n",
       "      <td>83.0</td>\n",
       "      <td>...</td>\n",
       "      <td>457000.0</td>\n",
       "      <td>8.180149</td>\n",
       "      <td>9.954157</td>\n",
       "      <td>18.134306</td>\n",
       "      <td>1718.0</td>\n",
       "      <td>81.0</td>\n",
       "      <td>306.0</td>\n",
       "      <td>0.003426</td>\n",
       "      <td>5293.075884</td>\n",
       "      <td>22.0</td>\n",
       "    </tr>\n",
       "    <tr>\n",
       "      <th>14471</th>\n",
       "      <td>Juan Pierre</td>\n",
       "      <td>pierrju01</td>\n",
       "      <td>2001</td>\n",
       "      <td>COL</td>\n",
       "      <td>156</td>\n",
       "      <td>617</td>\n",
       "      <td>108</td>\n",
       "      <td>202</td>\n",
       "      <td>2</td>\n",
       "      <td>55.0</td>\n",
       "      <td>...</td>\n",
       "      <td>215000.0</td>\n",
       "      <td>5.420581</td>\n",
       "      <td>10.446937</td>\n",
       "      <td>15.867518</td>\n",
       "      <td>4293.0</td>\n",
       "      <td>40.0</td>\n",
       "      <td>937.0</td>\n",
       "      <td>0.003005</td>\n",
       "      <td>5279.922659</td>\n",
       "      <td>23.0</td>\n",
       "    </tr>\n",
       "    <tr>\n",
       "      <th>27303</th>\n",
       "      <td>Jackie Bradley</td>\n",
       "      <td>bradlja02</td>\n",
       "      <td>2016</td>\n",
       "      <td>BOS</td>\n",
       "      <td>156</td>\n",
       "      <td>558</td>\n",
       "      <td>94</td>\n",
       "      <td>149</td>\n",
       "      <td>26</td>\n",
       "      <td>87.0</td>\n",
       "      <td>...</td>\n",
       "      <td>546500.0</td>\n",
       "      <td>8.574373</td>\n",
       "      <td>6.701809</td>\n",
       "      <td>15.276181</td>\n",
       "      <td>1435.0</td>\n",
       "      <td>1430.0</td>\n",
       "      <td>1197.0</td>\n",
       "      <td>0.002899</td>\n",
       "      <td>5270.373763</td>\n",
       "      <td>24.0</td>\n",
       "    </tr>\n",
       "    <tr>\n",
       "      <th>26363</th>\n",
       "      <td>Mookie Betts</td>\n",
       "      <td>bettsmo01</td>\n",
       "      <td>2015</td>\n",
       "      <td>BOS</td>\n",
       "      <td>145</td>\n",
       "      <td>597</td>\n",
       "      <td>92</td>\n",
       "      <td>174</td>\n",
       "      <td>18</td>\n",
       "      <td>77.0</td>\n",
       "      <td>...</td>\n",
       "      <td>514500.0</td>\n",
       "      <td>7.588813</td>\n",
       "      <td>7.293145</td>\n",
       "      <td>14.881957</td>\n",
       "      <td>2147.0</td>\n",
       "      <td>966.0</td>\n",
       "      <td>1361.0</td>\n",
       "      <td>0.002841</td>\n",
       "      <td>5238.431663</td>\n",
       "      <td>25.0</td>\n",
       "    </tr>\n",
       "  </tbody>\n",
       "</table>\n",
       "<p>25 rows × 21 columns</p>\n",
       "</div>"
      ],
      "text/plain": [
       "                    Name   playerID  yearID teamID    G   AB    R    H  HR  \\\n",
       "6309          Dion James  jamesdi01    1993    NYA  115  343   62  114   7   \n",
       "14487      Albert Pujols  pujolal01    2001    SLN  161  590  112  194  37   \n",
       "15492      Junior Spivey  spiveju01    2002    ARI  143  538  103  162  16   \n",
       "9231         Derek Jeter  jeterde01    1996    NYA  157  582  104  183  10   \n",
       "27285       Mookie Betts  bettsmo01    2016    BOS  158  672  122  214  31   \n",
       "15086   Shea Hillenbrand  hillesh02    2002    BOS  156  634   94  186  18   \n",
       "19317      Robinson Cano   canoro01    2007    NYA  160  617   93  189  19   \n",
       "27968       Corey Seager  seageco01    2016    LAN  157  627  105  193  26   \n",
       "14286       Paul Lo Duca  loducpa01    2001    LAN  125  460   71  147  25   \n",
       "18407      Robinson Cano   canoro01    2006    NYA  122  482   62  165  15   \n",
       "22133      Brett Gardner  gardnbr01    2010    NYA  150  477   97  132   5   \n",
       "8220       Chipper Jones  jonesch06    1995    ATL  140  524   87  139  23   \n",
       "10544     Edgar Renteria  renteed01    1997    FLO  154  617   90  171   4   \n",
       "15088        Eric Hinske  hinsker01    2002    TOR  151  566   99  158  24   \n",
       "19306      Melky Cabrera  cabreme01    2007    NYA  150  545   66  149   8   \n",
       "15582       Vernon Wells  wellsve01    2002    TOR  159  608   87  167  23   \n",
       "15127       Nick Johnson  johnsni01    2002    NYA  129  378   56   92  15   \n",
       "10095  Nomar Garciaparra  garcino01    1997    BOS  153  684  122  209  30   \n",
       "15626      Michael Young  youngmi02    2002    TEX  156  573   77  150   9   \n",
       "18268       David Wright  wrighda03    2005    NYN  160  575   99  176  27   \n",
       "19185     Kevin Youkilis  youklke01    2006    BOS  147  569  100  159  13   \n",
       "20713     Dustin Pedroia  pedrodu01    2008    BOS  157  653  118  213  17   \n",
       "14471        Juan Pierre  pierrju01    2001    COL  156  617  108  202   2   \n",
       "27303     Jackie Bradley  bradlja02    2016    BOS  156  558   94  149  26   \n",
       "26363       Mookie Betts  bettsmo01    2015    BOS  145  597   92  174  18   \n",
       "\n",
       "         RBI  ...    Salary    RBI W-S  OnBase W-S  Total W-S  RBI W-S R  \\\n",
       "6309    36.0  ...       0.0   3.548016    5.420581   8.968597     7111.0   \n",
       "14487  130.0  ...  200000.0  12.812281    7.391701  20.203982       89.0   \n",
       "15492   78.0  ...  215000.0   7.687369    8.574373  16.261742     2080.0   \n",
       "9231    78.0  ...  130000.0   7.687369    9.264265  16.951634     2080.0   \n",
       "27285  113.0  ...  566000.0  11.136829    8.968597  20.105426      331.0   \n",
       "15086   83.0  ...  260000.0   8.180149    7.490257  15.670406     1718.0   \n",
       "19317   97.0  ...  490800.0   9.559933    7.293145  16.853078      925.0   \n",
       "27968   72.0  ...  510000.0   7.096033    7.785925  14.881957     2535.0   \n",
       "14286   90.0  ...  230000.0   8.870041    4.533576  13.403617     1263.0   \n",
       "18407   78.0  ...  381000.0   7.687369    4.632132  12.319501     2080.0   \n",
       "22133   47.0  ...  452500.0   4.632132    9.067153  13.699285     5406.0   \n",
       "8220    86.0  ...  114000.0   8.475817    6.307585  14.783401     1502.0   \n",
       "10544   52.0  ...  109500.0   5.124912    8.475817  13.600729     4653.0   \n",
       "15088   84.0  ...  200000.0   8.278705    7.391701  15.670406     1645.0   \n",
       "19306   73.0  ...  432400.0   7.194589    5.716249  12.910837     2431.0   \n",
       "15582  100.0  ...  221000.0   9.855601    6.307585  16.163186      812.0   \n",
       "15127   58.0  ...  220650.0   5.716249    4.040796   9.757045     3906.0   \n",
       "10095   98.0  ...  150000.0   9.658489    9.067153  18.725642      890.0   \n",
       "15626   62.0  ...  250000.0   6.110473    6.701809  12.812281     3458.0   \n",
       "18268  102.0  ...  322500.0  10.052713    7.096033  17.148746      712.0   \n",
       "19185   72.0  ...  354600.0   7.096033    8.574373  15.670406     2535.0   \n",
       "20713   83.0  ...  457000.0   8.180149    9.954157  18.134306     1718.0   \n",
       "14471   55.0  ...  215000.0   5.420581   10.446937  15.867518     4293.0   \n",
       "27303   87.0  ...  546500.0   8.574373    6.701809  15.276181     1435.0   \n",
       "26363   77.0  ...  514500.0   7.588813    7.293145  14.881957     2147.0   \n",
       "\n",
       "       OnBase W-S R  Total W-S R  Fraction        Value  Value Rank  \n",
       "6309         2952.0       5178.0  0.000000          inf         1.0  \n",
       "14487         901.0         75.0  0.002547  7933.935313         2.0  \n",
       "15492         324.0        805.0  0.002091  7776.894196         3.0  \n",
       "9231          156.0        593.0  0.002399  7066.456955         4.0  \n",
       "27285         214.0         84.0  0.003002  6697.513842         5.0  \n",
       "15086         835.0        999.0  0.002399  6531.308093         6.0  \n",
       "19317         966.0        620.0  0.002593  6498.772162         7.0  \n",
       "27968         658.0       1377.0  0.002305  6457.263241         8.0  \n",
       "14286        4307.0       2141.0  0.002108  6358.323646         9.0  \n",
       "18407        4143.0       2825.0  0.001957  6294.362293        10.0  \n",
       "22133         197.0       1996.0  0.002193  6246.673962        11.0  \n",
       "8220         1794.0       1412.0  0.002413  6125.443378        12.0  \n",
       "10544         357.0       2057.0  0.002249  6047.977280        13.0  \n",
       "15088         901.0       1028.0  0.002602  6022.476338        14.0  \n",
       "19306        2521.0       2451.0  0.002285  5651.000758        15.0  \n",
       "15582        1794.0        819.0  0.002875  5621.594920        16.0  \n",
       "15127        5196.0       4583.0  0.001752  5568.505977        17.0  \n",
       "10095         197.0        237.0  0.003444  5437.770334        18.0  \n",
       "15626        1430.0       2514.0  0.002369  5408.121412        19.0  \n",
       "18268        1098.0        537.0  0.003183  5386.876769        20.0  \n",
       "19185         324.0       1028.0  0.002953  5307.425111        21.0  \n",
       "20713          81.0        306.0  0.003426  5293.075884        22.0  \n",
       "14471          40.0        937.0  0.003005  5279.922659        23.0  \n",
       "27303        1430.0       1197.0  0.002899  5270.373763        24.0  \n",
       "26363         966.0       1361.0  0.002841  5238.431663        25.0  \n",
       "\n",
       "[25 rows x 21 columns]"
      ]
     },
     "execution_count": 52,
     "metadata": {},
     "output_type": "execute_result"
    }
   ],
   "source": [
    "qualifying_batters['TeamPayroll'] = team_salary\n",
    "qualifying_batters['Fraction'] = qualifying_batters['Salary'] / qualifying_batters['TeamPayroll']\n",
    "qualifying_batters['Value'] = qualifying_batters['Total W-S'] / qualifying_batters['Fraction']\n",
    "qualifying_batters = qualifying_batters.drop(columns=['TeamPayroll'])\n",
    "qualifying_batters['Value Rank'] = qualifying_batters['Value'].rank(ascending=False, method='max')\n",
    "top_25_value = qualifying_batters.loc[qualifying_batters['Value Rank'] <= 25]\n",
    "top_25_value.sort_values('Value Rank')"
   ]
  },
  {
   "cell_type": "markdown",
   "metadata": {},
   "source": [
    "Ignoring the first overall valuable batter's season (Dion James, whose 0 dollar salary seems impossible and is almost certainly a mistake in the original database), the most valuable season by a player was Albert Pujols' rookie season (2001) with the St. Louis Cardinals, who contributed over 20 win shares while only costing about .25% of the team's overall payroll. For this season, he was an All-Star and won the Silver Slugger Award, and is currently a 10x All-Star, 3x NL MVP, and 6x Silver Slugger Award winner. Since MVP (Most Valuable Player) is often given to the best player for the season (not the most _valuable_, in terms of actual value by salary), none of these players won the MVP for the season they were on the list for. However, many were still recognized as All-Stars or awarded the Silver Slugger for it. Looking at the overall makeup of this list, all of these players were still on their rookie contracts, which means their fraction of the team's payroll is very small. Therefore, having strong seasons while on their rookie contracts means they are very valuable to their teams. The list is also seems to be indicative of future success, as players on it would become very good or even great players in later seasons, such as Hall of Famer Derek Jeter and current 4x All-Star and 2018 AL MVP Mookie Betts. If the MVP award was given for actual _value_ to their team using their salaries, instead of just being the best player that season no matter their contract, this list would be a great reference for it. For how awards are given in the MLB currently, though, this list shows historically great batters on their rookie contracts (or even simply rookies, as Pujols and Jeter's seasons are from their rookie seasons, where they each won Rookie of the Year)."
   ]
  },
  {
   "cell_type": "markdown",
   "metadata": {},
   "source": [
    "#### Pitchers"
   ]
  },
  {
   "cell_type": "markdown",
   "metadata": {},
   "source": [
    "Moving onto pitchers, since a greater ERA is worse for a team (and contributes to losses), better pitchers are ones who have a lower ERA. Instead of win shares then, I will use \"Loss Shares,\" by taking the negative of the coefficient for ERA in the model. Also, since the model uses the team's overall ERA, to measure the individual impact of a pitcher for the season, I am going to take the fraction of games played by the pitcher out of the games the team played that season. Additionally, for even better normalization of pitchers, since pitching more often would contribute to more losses, I will use Loss Shares _per inning pitched_ to compared pitchers. As a consequence of that, to weed out pitchers who played a game or two and didn't give up any runs (would have 0 loss shares, but won't measure best because they didn't play very much), I will only look at pitchers who played in at least 20 games."
   ]
  },
  {
   "cell_type": "code",
   "execution_count": 53,
   "metadata": {},
   "outputs": [],
   "source": [
    "pitching_data = pitching_data[['Name', 'playerID', 'yearID', 'teamID', 'W', 'L', 'G', 'SV', 'IPouts', 'H', 'ER', 'HR', 'BB', 'BAOpp', 'ERA', 'R', 'Salary']]\n",
    "games_total = []\n",
    "for index in range(len(pitching_data)):\n",
    "    row = pitching_data.iloc[index:(index+1)]\n",
    "    year = row['yearID'][index]\n",
    "    team = row['teamID'][index]\n",
    "    games = team_data.loc[(team_data['yearID'] == year) & (team_data['teamID'] == team), ['G']]\n",
    "    games.reset_index(drop=True, inplace=True)\n",
    "    games_played = games['G'][0]\n",
    "    games_total.append(games_played)"
   ]
  },
  {
   "cell_type": "code",
   "execution_count": 54,
   "metadata": {},
   "outputs": [
    {
     "data": {
      "text/html": [
       "<div>\n",
       "<style scoped>\n",
       "    .dataframe tbody tr th:only-of-type {\n",
       "        vertical-align: middle;\n",
       "    }\n",
       "\n",
       "    .dataframe tbody tr th {\n",
       "        vertical-align: top;\n",
       "    }\n",
       "\n",
       "    .dataframe thead th {\n",
       "        text-align: right;\n",
       "    }\n",
       "</style>\n",
       "<table border=\"1\" class=\"dataframe\">\n",
       "  <thead>\n",
       "    <tr style=\"text-align: right;\">\n",
       "      <th></th>\n",
       "      <th>Name</th>\n",
       "      <th>playerID</th>\n",
       "      <th>yearID</th>\n",
       "      <th>teamID</th>\n",
       "      <th>W</th>\n",
       "      <th>L</th>\n",
       "      <th>G</th>\n",
       "      <th>SV</th>\n",
       "      <th>IPouts</th>\n",
       "      <th>H</th>\n",
       "      <th>...</th>\n",
       "      <th>HR</th>\n",
       "      <th>BB</th>\n",
       "      <th>BAOpp</th>\n",
       "      <th>ERA</th>\n",
       "      <th>R</th>\n",
       "      <th>Salary</th>\n",
       "      <th>Team_G</th>\n",
       "      <th>L-S</th>\n",
       "      <th>L-S / Inning</th>\n",
       "      <th>L-S / Inning Rank</th>\n",
       "    </tr>\n",
       "  </thead>\n",
       "  <tbody>\n",
       "    <tr>\n",
       "      <th>80</th>\n",
       "      <td>Dwight Gooden</td>\n",
       "      <td>goodedw01</td>\n",
       "      <td>1985</td>\n",
       "      <td>NYN</td>\n",
       "      <td>24</td>\n",
       "      <td>4</td>\n",
       "      <td>35</td>\n",
       "      <td>0</td>\n",
       "      <td>830</td>\n",
       "      <td>198</td>\n",
       "      <td>...</td>\n",
       "      <td>13</td>\n",
       "      <td>69</td>\n",
       "      <td>0.201</td>\n",
       "      <td>1.53</td>\n",
       "      <td>51</td>\n",
       "      <td>450000.0</td>\n",
       "      <td>162</td>\n",
       "      <td>5.301660</td>\n",
       "      <td>0.019163</td>\n",
       "      <td>1.0</td>\n",
       "    </tr>\n",
       "    <tr>\n",
       "      <th>4557</th>\n",
       "      <td>Pedro Martinez</td>\n",
       "      <td>martipe02</td>\n",
       "      <td>2000</td>\n",
       "      <td>BOS</td>\n",
       "      <td>18</td>\n",
       "      <td>6</td>\n",
       "      <td>29</td>\n",
       "      <td>0</td>\n",
       "      <td>651</td>\n",
       "      <td>128</td>\n",
       "      <td>...</td>\n",
       "      <td>17</td>\n",
       "      <td>32</td>\n",
       "      <td>0.167</td>\n",
       "      <td>1.74</td>\n",
       "      <td>44</td>\n",
       "      <td>11500000.0</td>\n",
       "      <td>162</td>\n",
       "      <td>4.995738</td>\n",
       "      <td>0.023022</td>\n",
       "      <td>2.0</td>\n",
       "    </tr>\n",
       "    <tr>\n",
       "      <th>10687</th>\n",
       "      <td>Clayton Kershaw</td>\n",
       "      <td>kershcl01</td>\n",
       "      <td>2016</td>\n",
       "      <td>LAN</td>\n",
       "      <td>12</td>\n",
       "      <td>4</td>\n",
       "      <td>21</td>\n",
       "      <td>0</td>\n",
       "      <td>447</td>\n",
       "      <td>97</td>\n",
       "      <td>...</td>\n",
       "      <td>8</td>\n",
       "      <td>11</td>\n",
       "      <td>0.184</td>\n",
       "      <td>1.69</td>\n",
       "      <td>31</td>\n",
       "      <td>33000000.0</td>\n",
       "      <td>162</td>\n",
       "      <td>3.513649</td>\n",
       "      <td>0.023582</td>\n",
       "      <td>3.0</td>\n",
       "    </tr>\n",
       "    <tr>\n",
       "      <th>10214</th>\n",
       "      <td>Zack Greinke</td>\n",
       "      <td>greinza01</td>\n",
       "      <td>2015</td>\n",
       "      <td>LAN</td>\n",
       "      <td>19</td>\n",
       "      <td>3</td>\n",
       "      <td>32</td>\n",
       "      <td>0</td>\n",
       "      <td>668</td>\n",
       "      <td>148</td>\n",
       "      <td>...</td>\n",
       "      <td>14</td>\n",
       "      <td>40</td>\n",
       "      <td>0.187</td>\n",
       "      <td>1.66</td>\n",
       "      <td>43</td>\n",
       "      <td>25000000.0</td>\n",
       "      <td>162</td>\n",
       "      <td>5.259089</td>\n",
       "      <td>0.023619</td>\n",
       "      <td>4.0</td>\n",
       "    </tr>\n",
       "    <tr>\n",
       "      <th>9858</th>\n",
       "      <td>Clayton Kershaw</td>\n",
       "      <td>kershcl01</td>\n",
       "      <td>2014</td>\n",
       "      <td>LAN</td>\n",
       "      <td>21</td>\n",
       "      <td>3</td>\n",
       "      <td>27</td>\n",
       "      <td>0</td>\n",
       "      <td>595</td>\n",
       "      <td>139</td>\n",
       "      <td>...</td>\n",
       "      <td>9</td>\n",
       "      <td>31</td>\n",
       "      <td>0.196</td>\n",
       "      <td>1.77</td>\n",
       "      <td>42</td>\n",
       "      <td>4000000.0</td>\n",
       "      <td>162</td>\n",
       "      <td>4.731398</td>\n",
       "      <td>0.023856</td>\n",
       "      <td>5.0</td>\n",
       "    </tr>\n",
       "    <tr>\n",
       "      <th>3507</th>\n",
       "      <td>Pedro Martinez</td>\n",
       "      <td>martipe02</td>\n",
       "      <td>1997</td>\n",
       "      <td>MON</td>\n",
       "      <td>17</td>\n",
       "      <td>8</td>\n",
       "      <td>31</td>\n",
       "      <td>0</td>\n",
       "      <td>724</td>\n",
       "      <td>158</td>\n",
       "      <td>...</td>\n",
       "      <td>16</td>\n",
       "      <td>67</td>\n",
       "      <td>0.184</td>\n",
       "      <td>1.90</td>\n",
       "      <td>65</td>\n",
       "      <td>3615000.0</td>\n",
       "      <td>162</td>\n",
       "      <td>5.831331</td>\n",
       "      <td>0.024163</td>\n",
       "      <td>6.0</td>\n",
       "    </tr>\n",
       "    <tr>\n",
       "      <th>2883</th>\n",
       "      <td>Greg Maddux</td>\n",
       "      <td>maddugr01</td>\n",
       "      <td>1995</td>\n",
       "      <td>ATL</td>\n",
       "      <td>19</td>\n",
       "      <td>2</td>\n",
       "      <td>28</td>\n",
       "      <td>0</td>\n",
       "      <td>629</td>\n",
       "      <td>147</td>\n",
       "      <td>...</td>\n",
       "      <td>8</td>\n",
       "      <td>23</td>\n",
       "      <td>0.197</td>\n",
       "      <td>1.63</td>\n",
       "      <td>39</td>\n",
       "      <td>6500000.0</td>\n",
       "      <td>144</td>\n",
       "      <td>5.083357</td>\n",
       "      <td>0.024245</td>\n",
       "      <td>7.0</td>\n",
       "    </tr>\n",
       "    <tr>\n",
       "      <th>238</th>\n",
       "      <td>John Tudor</td>\n",
       "      <td>tudorjo01</td>\n",
       "      <td>1985</td>\n",
       "      <td>SLN</td>\n",
       "      <td>21</td>\n",
       "      <td>8</td>\n",
       "      <td>36</td>\n",
       "      <td>0</td>\n",
       "      <td>825</td>\n",
       "      <td>209</td>\n",
       "      <td>...</td>\n",
       "      <td>14</td>\n",
       "      <td>49</td>\n",
       "      <td>0.209</td>\n",
       "      <td>1.93</td>\n",
       "      <td>68</td>\n",
       "      <td>457500.0</td>\n",
       "      <td>162</td>\n",
       "      <td>6.878793</td>\n",
       "      <td>0.025014</td>\n",
       "      <td>8.0</td>\n",
       "    </tr>\n",
       "    <tr>\n",
       "      <th>10083</th>\n",
       "      <td>Jake Arrieta</td>\n",
       "      <td>arrieja01</td>\n",
       "      <td>2015</td>\n",
       "      <td>CHN</td>\n",
       "      <td>22</td>\n",
       "      <td>6</td>\n",
       "      <td>33</td>\n",
       "      <td>0</td>\n",
       "      <td>687</td>\n",
       "      <td>150</td>\n",
       "      <td>...</td>\n",
       "      <td>10</td>\n",
       "      <td>48</td>\n",
       "      <td>0.185</td>\n",
       "      <td>1.77</td>\n",
       "      <td>52</td>\n",
       "      <td>3630000.0</td>\n",
       "      <td>162</td>\n",
       "      <td>5.782819</td>\n",
       "      <td>0.025252</td>\n",
       "      <td>9.0</td>\n",
       "    </tr>\n",
       "    <tr>\n",
       "      <th>9470</th>\n",
       "      <td>Clayton Kershaw</td>\n",
       "      <td>kershcl01</td>\n",
       "      <td>2013</td>\n",
       "      <td>LAN</td>\n",
       "      <td>16</td>\n",
       "      <td>9</td>\n",
       "      <td>33</td>\n",
       "      <td>0</td>\n",
       "      <td>708</td>\n",
       "      <td>164</td>\n",
       "      <td>...</td>\n",
       "      <td>11</td>\n",
       "      <td>52</td>\n",
       "      <td>0.195</td>\n",
       "      <td>1.83</td>\n",
       "      <td>55</td>\n",
       "      <td>11750000.0</td>\n",
       "      <td>162</td>\n",
       "      <td>5.978847</td>\n",
       "      <td>0.025334</td>\n",
       "      <td>10.0</td>\n",
       "    </tr>\n",
       "    <tr>\n",
       "      <th>3059</th>\n",
       "      <td>Kevin Brown</td>\n",
       "      <td>brownke01</td>\n",
       "      <td>1996</td>\n",
       "      <td>FLO</td>\n",
       "      <td>17</td>\n",
       "      <td>11</td>\n",
       "      <td>32</td>\n",
       "      <td>0</td>\n",
       "      <td>699</td>\n",
       "      <td>187</td>\n",
       "      <td>...</td>\n",
       "      <td>8</td>\n",
       "      <td>33</td>\n",
       "      <td>0.220</td>\n",
       "      <td>1.89</td>\n",
       "      <td>60</td>\n",
       "      <td>3350000.0</td>\n",
       "      <td>162</td>\n",
       "      <td>5.987757</td>\n",
       "      <td>0.025699</td>\n",
       "      <td>11.0</td>\n",
       "    </tr>\n",
       "    <tr>\n",
       "      <th>1343</th>\n",
       "      <td>Roger Clemens</td>\n",
       "      <td>clemero02</td>\n",
       "      <td>1990</td>\n",
       "      <td>BOS</td>\n",
       "      <td>21</td>\n",
       "      <td>6</td>\n",
       "      <td>31</td>\n",
       "      <td>0</td>\n",
       "      <td>685</td>\n",
       "      <td>193</td>\n",
       "      <td>...</td>\n",
       "      <td>7</td>\n",
       "      <td>54</td>\n",
       "      <td>0.228</td>\n",
       "      <td>1.93</td>\n",
       "      <td>59</td>\n",
       "      <td>2600000.0</td>\n",
       "      <td>162</td>\n",
       "      <td>5.923405</td>\n",
       "      <td>0.025942</td>\n",
       "      <td>12.0</td>\n",
       "    </tr>\n",
       "    <tr>\n",
       "      <th>3398</th>\n",
       "      <td>Roger Clemens</td>\n",
       "      <td>clemero02</td>\n",
       "      <td>1997</td>\n",
       "      <td>TOR</td>\n",
       "      <td>21</td>\n",
       "      <td>7</td>\n",
       "      <td>34</td>\n",
       "      <td>0</td>\n",
       "      <td>792</td>\n",
       "      <td>204</td>\n",
       "      <td>...</td>\n",
       "      <td>9</td>\n",
       "      <td>68</td>\n",
       "      <td>0.213</td>\n",
       "      <td>2.05</td>\n",
       "      <td>65</td>\n",
       "      <td>8400000.0</td>\n",
       "      <td>162</td>\n",
       "      <td>6.900574</td>\n",
       "      <td>0.026139</td>\n",
       "      <td>13.0</td>\n",
       "    </tr>\n",
       "    <tr>\n",
       "      <th>2603</th>\n",
       "      <td>Greg Maddux</td>\n",
       "      <td>maddugr01</td>\n",
       "      <td>1994</td>\n",
       "      <td>ATL</td>\n",
       "      <td>16</td>\n",
       "      <td>6</td>\n",
       "      <td>25</td>\n",
       "      <td>0</td>\n",
       "      <td>606</td>\n",
       "      <td>150</td>\n",
       "      <td>...</td>\n",
       "      <td>4</td>\n",
       "      <td>31</td>\n",
       "      <td>0.207</td>\n",
       "      <td>1.56</td>\n",
       "      <td>44</td>\n",
       "      <td>4975000.0</td>\n",
       "      <td>114</td>\n",
       "      <td>5.486902</td>\n",
       "      <td>0.027163</td>\n",
       "      <td>14.0</td>\n",
       "    </tr>\n",
       "    <tr>\n",
       "      <th>6259</th>\n",
       "      <td>Roger Clemens</td>\n",
       "      <td>clemero02</td>\n",
       "      <td>2005</td>\n",
       "      <td>HOU</td>\n",
       "      <td>13</td>\n",
       "      <td>8</td>\n",
       "      <td>32</td>\n",
       "      <td>0</td>\n",
       "      <td>634</td>\n",
       "      <td>151</td>\n",
       "      <td>...</td>\n",
       "      <td>11</td>\n",
       "      <td>62</td>\n",
       "      <td>0.198</td>\n",
       "      <td>1.87</td>\n",
       "      <td>51</td>\n",
       "      <td>18000000.0</td>\n",
       "      <td>163</td>\n",
       "      <td>5.888049</td>\n",
       "      <td>0.027861</td>\n",
       "      <td>15.0</td>\n",
       "    </tr>\n",
       "    <tr>\n",
       "      <th>2007</th>\n",
       "      <td>Greg Maddux</td>\n",
       "      <td>maddugr01</td>\n",
       "      <td>1992</td>\n",
       "      <td>CHN</td>\n",
       "      <td>20</td>\n",
       "      <td>11</td>\n",
       "      <td>35</td>\n",
       "      <td>0</td>\n",
       "      <td>804</td>\n",
       "      <td>201</td>\n",
       "      <td>...</td>\n",
       "      <td>7</td>\n",
       "      <td>70</td>\n",
       "      <td>0.210</td>\n",
       "      <td>2.18</td>\n",
       "      <td>68</td>\n",
       "      <td>4200000.0</td>\n",
       "      <td>162</td>\n",
       "      <td>7.554000</td>\n",
       "      <td>0.028187</td>\n",
       "      <td>16.0</td>\n",
       "    </tr>\n",
       "    <tr>\n",
       "      <th>886</th>\n",
       "      <td>Orel Hershiser</td>\n",
       "      <td>hershor01</td>\n",
       "      <td>1988</td>\n",
       "      <td>LAN</td>\n",
       "      <td>23</td>\n",
       "      <td>8</td>\n",
       "      <td>35</td>\n",
       "      <td>1</td>\n",
       "      <td>801</td>\n",
       "      <td>208</td>\n",
       "      <td>...</td>\n",
       "      <td>18</td>\n",
       "      <td>73</td>\n",
       "      <td>0.213</td>\n",
       "      <td>2.26</td>\n",
       "      <td>73</td>\n",
       "      <td>1100000.0</td>\n",
       "      <td>162</td>\n",
       "      <td>7.831211</td>\n",
       "      <td>0.029330</td>\n",
       "      <td>17.0</td>\n",
       "    </tr>\n",
       "    <tr>\n",
       "      <th>1241</th>\n",
       "      <td>Bret Saberhagen</td>\n",
       "      <td>saberbr01</td>\n",
       "      <td>1989</td>\n",
       "      <td>KCA</td>\n",
       "      <td>23</td>\n",
       "      <td>6</td>\n",
       "      <td>36</td>\n",
       "      <td>0</td>\n",
       "      <td>787</td>\n",
       "      <td>209</td>\n",
       "      <td>...</td>\n",
       "      <td>13</td>\n",
       "      <td>43</td>\n",
       "      <td>0.217</td>\n",
       "      <td>2.16</td>\n",
       "      <td>74</td>\n",
       "      <td>1350000.0</td>\n",
       "      <td>162</td>\n",
       "      <td>7.698545</td>\n",
       "      <td>0.029346</td>\n",
       "      <td>18.0</td>\n",
       "    </tr>\n",
       "    <tr>\n",
       "      <th>460</th>\n",
       "      <td>Mike Scott</td>\n",
       "      <td>scottmi03</td>\n",
       "      <td>1986</td>\n",
       "      <td>HOU</td>\n",
       "      <td>18</td>\n",
       "      <td>10</td>\n",
       "      <td>37</td>\n",
       "      <td>0</td>\n",
       "      <td>826</td>\n",
       "      <td>182</td>\n",
       "      <td>...</td>\n",
       "      <td>17</td>\n",
       "      <td>72</td>\n",
       "      <td>0.186</td>\n",
       "      <td>2.22</td>\n",
       "      <td>73</td>\n",
       "      <td>666667.0</td>\n",
       "      <td>162</td>\n",
       "      <td>8.132182</td>\n",
       "      <td>0.029536</td>\n",
       "      <td>19.0</td>\n",
       "    </tr>\n",
       "    <tr>\n",
       "      <th>3839</th>\n",
       "      <td>Greg Maddux</td>\n",
       "      <td>maddugr01</td>\n",
       "      <td>1998</td>\n",
       "      <td>ATL</td>\n",
       "      <td>18</td>\n",
       "      <td>9</td>\n",
       "      <td>34</td>\n",
       "      <td>0</td>\n",
       "      <td>753</td>\n",
       "      <td>201</td>\n",
       "      <td>...</td>\n",
       "      <td>13</td>\n",
       "      <td>45</td>\n",
       "      <td>0.220</td>\n",
       "      <td>2.22</td>\n",
       "      <td>75</td>\n",
       "      <td>9600000.0</td>\n",
       "      <td>162</td>\n",
       "      <td>7.472816</td>\n",
       "      <td>0.029772</td>\n",
       "      <td>20.0</td>\n",
       "    </tr>\n",
       "    <tr>\n",
       "      <th>4201</th>\n",
       "      <td>Pedro Martinez</td>\n",
       "      <td>martipe02</td>\n",
       "      <td>1999</td>\n",
       "      <td>BOS</td>\n",
       "      <td>23</td>\n",
       "      <td>4</td>\n",
       "      <td>31</td>\n",
       "      <td>0</td>\n",
       "      <td>640</td>\n",
       "      <td>160</td>\n",
       "      <td>...</td>\n",
       "      <td>9</td>\n",
       "      <td>37</td>\n",
       "      <td>0.205</td>\n",
       "      <td>2.07</td>\n",
       "      <td>56</td>\n",
       "      <td>11100000.0</td>\n",
       "      <td>162</td>\n",
       "      <td>6.353082</td>\n",
       "      <td>0.029780</td>\n",
       "      <td>21.0</td>\n",
       "    </tr>\n",
       "    <tr>\n",
       "      <th>10270</th>\n",
       "      <td>Clayton Kershaw</td>\n",
       "      <td>kershcl01</td>\n",
       "      <td>2015</td>\n",
       "      <td>LAN</td>\n",
       "      <td>16</td>\n",
       "      <td>7</td>\n",
       "      <td>33</td>\n",
       "      <td>0</td>\n",
       "      <td>698</td>\n",
       "      <td>163</td>\n",
       "      <td>...</td>\n",
       "      <td>15</td>\n",
       "      <td>42</td>\n",
       "      <td>0.194</td>\n",
       "      <td>2.13</td>\n",
       "      <td>62</td>\n",
       "      <td>32571000.0</td>\n",
       "      <td>162</td>\n",
       "      <td>6.958986</td>\n",
       "      <td>0.029910</td>\n",
       "      <td>22.0</td>\n",
       "    </tr>\n",
       "    <tr>\n",
       "      <th>10801</th>\n",
       "      <td>Fernando Rodney</td>\n",
       "      <td>rodnefe01</td>\n",
       "      <td>2016</td>\n",
       "      <td>SDN</td>\n",
       "      <td>0</td>\n",
       "      <td>1</td>\n",
       "      <td>28</td>\n",
       "      <td>17</td>\n",
       "      <td>86</td>\n",
       "      <td>13</td>\n",
       "      <td>...</td>\n",
       "      <td>0</td>\n",
       "      <td>12</td>\n",
       "      <td>0.137</td>\n",
       "      <td>0.31</td>\n",
       "      <td>2</td>\n",
       "      <td>1600000.0</td>\n",
       "      <td>162</td>\n",
       "      <td>0.859354</td>\n",
       "      <td>0.029977</td>\n",
       "      <td>23.0</td>\n",
       "    </tr>\n",
       "    <tr>\n",
       "      <th>96</th>\n",
       "      <td>Orel Hershiser</td>\n",
       "      <td>hershor01</td>\n",
       "      <td>1985</td>\n",
       "      <td>LAN</td>\n",
       "      <td>19</td>\n",
       "      <td>3</td>\n",
       "      <td>36</td>\n",
       "      <td>0</td>\n",
       "      <td>719</td>\n",
       "      <td>179</td>\n",
       "      <td>...</td>\n",
       "      <td>8</td>\n",
       "      <td>68</td>\n",
       "      <td>0.206</td>\n",
       "      <td>2.03</td>\n",
       "      <td>72</td>\n",
       "      <td>212000.0</td>\n",
       "      <td>162</td>\n",
       "      <td>7.235207</td>\n",
       "      <td>0.030189</td>\n",
       "      <td>24.0</td>\n",
       "    </tr>\n",
       "    <tr>\n",
       "      <th>2107</th>\n",
       "      <td>Bob Tewksbury</td>\n",
       "      <td>tewksbo01</td>\n",
       "      <td>1992</td>\n",
       "      <td>SLN</td>\n",
       "      <td>16</td>\n",
       "      <td>5</td>\n",
       "      <td>33</td>\n",
       "      <td>0</td>\n",
       "      <td>699</td>\n",
       "      <td>217</td>\n",
       "      <td>...</td>\n",
       "      <td>15</td>\n",
       "      <td>20</td>\n",
       "      <td>0.248</td>\n",
       "      <td>2.16</td>\n",
       "      <td>63</td>\n",
       "      <td>825000.0</td>\n",
       "      <td>162</td>\n",
       "      <td>7.057000</td>\n",
       "      <td>0.030288</td>\n",
       "      <td>25.0</td>\n",
       "    </tr>\n",
       "  </tbody>\n",
       "</table>\n",
       "<p>25 rows × 21 columns</p>\n",
       "</div>"
      ],
      "text/plain": [
       "                  Name   playerID  yearID teamID   W   L   G  SV  IPouts    H  \\\n",
       "80       Dwight Gooden  goodedw01    1985    NYN  24   4  35   0     830  198   \n",
       "4557    Pedro Martinez  martipe02    2000    BOS  18   6  29   0     651  128   \n",
       "10687  Clayton Kershaw  kershcl01    2016    LAN  12   4  21   0     447   97   \n",
       "10214     Zack Greinke  greinza01    2015    LAN  19   3  32   0     668  148   \n",
       "9858   Clayton Kershaw  kershcl01    2014    LAN  21   3  27   0     595  139   \n",
       "3507    Pedro Martinez  martipe02    1997    MON  17   8  31   0     724  158   \n",
       "2883       Greg Maddux  maddugr01    1995    ATL  19   2  28   0     629  147   \n",
       "238         John Tudor  tudorjo01    1985    SLN  21   8  36   0     825  209   \n",
       "10083     Jake Arrieta  arrieja01    2015    CHN  22   6  33   0     687  150   \n",
       "9470   Clayton Kershaw  kershcl01    2013    LAN  16   9  33   0     708  164   \n",
       "3059       Kevin Brown  brownke01    1996    FLO  17  11  32   0     699  187   \n",
       "1343     Roger Clemens  clemero02    1990    BOS  21   6  31   0     685  193   \n",
       "3398     Roger Clemens  clemero02    1997    TOR  21   7  34   0     792  204   \n",
       "2603       Greg Maddux  maddugr01    1994    ATL  16   6  25   0     606  150   \n",
       "6259     Roger Clemens  clemero02    2005    HOU  13   8  32   0     634  151   \n",
       "2007       Greg Maddux  maddugr01    1992    CHN  20  11  35   0     804  201   \n",
       "886     Orel Hershiser  hershor01    1988    LAN  23   8  35   1     801  208   \n",
       "1241   Bret Saberhagen  saberbr01    1989    KCA  23   6  36   0     787  209   \n",
       "460         Mike Scott  scottmi03    1986    HOU  18  10  37   0     826  182   \n",
       "3839       Greg Maddux  maddugr01    1998    ATL  18   9  34   0     753  201   \n",
       "4201    Pedro Martinez  martipe02    1999    BOS  23   4  31   0     640  160   \n",
       "10270  Clayton Kershaw  kershcl01    2015    LAN  16   7  33   0     698  163   \n",
       "10801  Fernando Rodney  rodnefe01    2016    SDN   0   1  28  17      86   13   \n",
       "96      Orel Hershiser  hershor01    1985    LAN  19   3  36   0     719  179   \n",
       "2107     Bob Tewksbury  tewksbo01    1992    SLN  16   5  33   0     699  217   \n",
       "\n",
       "       ...  HR  BB  BAOpp   ERA   R      Salary  Team_G       L-S  \\\n",
       "80     ...  13  69  0.201  1.53  51    450000.0     162  5.301660   \n",
       "4557   ...  17  32  0.167  1.74  44  11500000.0     162  4.995738   \n",
       "10687  ...   8  11  0.184  1.69  31  33000000.0     162  3.513649   \n",
       "10214  ...  14  40  0.187  1.66  43  25000000.0     162  5.259089   \n",
       "9858   ...   9  31  0.196  1.77  42   4000000.0     162  4.731398   \n",
       "3507   ...  16  67  0.184  1.90  65   3615000.0     162  5.831331   \n",
       "2883   ...   8  23  0.197  1.63  39   6500000.0     144  5.083357   \n",
       "238    ...  14  49  0.209  1.93  68    457500.0     162  6.878793   \n",
       "10083  ...  10  48  0.185  1.77  52   3630000.0     162  5.782819   \n",
       "9470   ...  11  52  0.195  1.83  55  11750000.0     162  5.978847   \n",
       "3059   ...   8  33  0.220  1.89  60   3350000.0     162  5.987757   \n",
       "1343   ...   7  54  0.228  1.93  59   2600000.0     162  5.923405   \n",
       "3398   ...   9  68  0.213  2.05  65   8400000.0     162  6.900574   \n",
       "2603   ...   4  31  0.207  1.56  44   4975000.0     114  5.486902   \n",
       "6259   ...  11  62  0.198  1.87  51  18000000.0     163  5.888049   \n",
       "2007   ...   7  70  0.210  2.18  68   4200000.0     162  7.554000   \n",
       "886    ...  18  73  0.213  2.26  73   1100000.0     162  7.831211   \n",
       "1241   ...  13  43  0.217  2.16  74   1350000.0     162  7.698545   \n",
       "460    ...  17  72  0.186  2.22  73    666667.0     162  8.132182   \n",
       "3839   ...  13  45  0.220  2.22  75   9600000.0     162  7.472816   \n",
       "4201   ...   9  37  0.205  2.07  56  11100000.0     162  6.353082   \n",
       "10270  ...  15  42  0.194  2.13  62  32571000.0     162  6.958986   \n",
       "10801  ...   0  12  0.137  0.31   2   1600000.0     162  0.859354   \n",
       "96     ...   8  68  0.206  2.03  72    212000.0     162  7.235207   \n",
       "2107   ...  15  20  0.248  2.16  63    825000.0     162  7.057000   \n",
       "\n",
       "       L-S / Inning  L-S / Inning Rank  \n",
       "80         0.019163                1.0  \n",
       "4557       0.023022                2.0  \n",
       "10687      0.023582                3.0  \n",
       "10214      0.023619                4.0  \n",
       "9858       0.023856                5.0  \n",
       "3507       0.024163                6.0  \n",
       "2883       0.024245                7.0  \n",
       "238        0.025014                8.0  \n",
       "10083      0.025252                9.0  \n",
       "9470       0.025334               10.0  \n",
       "3059       0.025699               11.0  \n",
       "1343       0.025942               12.0  \n",
       "3398       0.026139               13.0  \n",
       "2603       0.027163               14.0  \n",
       "6259       0.027861               15.0  \n",
       "2007       0.028187               16.0  \n",
       "886        0.029330               17.0  \n",
       "1241       0.029346               18.0  \n",
       "460        0.029536               19.0  \n",
       "3839       0.029772               20.0  \n",
       "4201       0.029780               21.0  \n",
       "10270      0.029910               22.0  \n",
       "10801      0.029977               23.0  \n",
       "96         0.030189               24.0  \n",
       "2107       0.030288               25.0  \n",
       "\n",
       "[25 rows x 21 columns]"
      ]
     },
     "execution_count": 54,
     "metadata": {},
     "output_type": "execute_result"
    }
   ],
   "source": [
    "pitching_data['Team_G'] = games_total\n",
    "pitching_data['L-S'] = pitching_data['ERA'] * -(coefficients[1]) * pitching_data['G'] / pitching_data['Team_G']\n",
    "pitching_data['L-S / Inning'] = pitching_data['L-S'] / (pitching_data['IPouts'] / 3)\n",
    "qualifying_pitchers = pitching_data.loc[pitching_data['G'] >= 20].copy()\n",
    "qualifying_pitchers.reset_index(drop=True, inplace=True)\n",
    "qualifying_pitchers['L-S / Inning Rank'] = qualifying_pitchers['L-S / Inning'].rank(ascending=True, method='max')\n",
    "top_25_pitchers = qualifying_pitchers.loc[qualifying_pitchers['L-S / Inning Rank'] <= 25]\n",
    "top_25_pitchers.sort_values('L-S / Inning Rank')"
   ]
  },
  {
   "cell_type": "markdown",
   "metadata": {},
   "source": [
    "Once again, conventional wisdom of good players is typically recognized for the pitchers with the lowest loss shares per inning. The best individual season between 1985 and 2016 was Dwight Gooden's 1985 season, who won the NL Cy Young Award (given to the best pitcher in the league that season), was an All-Star, and lead the league that season is wins, ERA, and strikeouts. The second best was by Pedro Martinez (who shows up three times on the list), winning the Cy Young Award for each season he was on the list and is a Hall of Famer. The individuals who show up most on the list are Clayton Kershaw (current 8x All-Star, 3x NL Cy Young Award winner) and Greg Maddux (8x All-Star, 4x NL Cy Young Award, and Hall of Famer). Many of the pitchers on this list were an All-Star and/or Cy Young Award winners that season."
   ]
  },
  {
   "cell_type": "markdown",
   "metadata": {},
   "source": [
    "However, there were some notable lack of recognition and awards for some of the pitchers on this list, unlike the list for best batters. Clayton Kershaw's 2016 season was third best in the entire dataset; however, he did not win the Cy Young Award that season, losing to Max Scherzer, who is not on this list. John Tudor's 1985 season was the 8th best ever between the 31 seasons in the set according to loss shares per inning; however, he was not even an All-Star for that season (and was never an All-Star in his career), although Dwight Gooden deservedly won the Cy Young Award over him according to the ranking. Finally, even though he was an 11x All-Star and 7x Cy Young Award winner, Roger Clemens' best season was in 1990 (12th overall), where he actually did not win the Cy Young Award, losing to Bob Welch, who led the league in the pitchers' win statistic that season (but is not on this list). For seasons earlier in the set, it appears that conventional wisdom valued the pitchers' wins statistics more heavily than ERA (even though ERA is a better indicator of actual wins/losses contributed to by a pitcher), causing the Cy Young Award be given to someone like Bob Welch instead of Roger Clemens. Therefore, even though pitchers like Roger Clemens and Clayton Kershaw were given lots of recognition and awards in their career, their best seasons were not properly awarded, and John Tudor was completely overlooked. While still pretty good at recognizing great pitching, conventional MLB awards failed to recognize some of the best individual pitching seasons historically."
   ]
  },
  {
   "cell_type": "markdown",
   "metadata": {},
   "source": [
    "## Conclusions and Significance"
   ]
  },
  {
   "cell_type": "markdown",
   "metadata": {},
   "source": [
    "#### Modeling Team Success (Wins/Post-Season Success)"
   ]
  },
  {
   "cell_type": "markdown",
   "metadata": {},
   "source": [
    "In terms of modeling a team's success, regular season statistics were effective in some areas and not effective in others. Regular season statistics were very effective at predicting the amount of games a team won across a season, the most successful of low dimensionality being the one with input variables for runs scored, earned run average, and fielding percentage. While it is not revolutionary to say that more runs scored and fewer runs given up would lead to more wins for a baseball team, what this model does successfully is give an expectation (with about + or - 5 games) of how many games a team should win if they reach certain benchmarks for statistics across the season. If a team wants to win, for example, about 95 games for the season, they could set target goals for runs scored, ERA for the team, and fielding percentage that they would have to hit in order to do so. Furthermore, in team building during the off-season, a general manager could assemble a team of players, who based on past season performances, aggregate out to the input variables for the team, which should give a pretty good estimate for how many games the team will win."
   ]
  },
  {
   "cell_type": "markdown",
   "metadata": {},
   "source": [
    "On the other hand, regular season statistics don't appear to be a successful indicator of post-season success. Out of the field of divisional winners, the logistic regression model for predicting league winners in the post-season did not even predict one team to win it. Given the marginal differences between playoff teams and the good number of them actually in the playoffs, it appears that regular season success is not a good model for predicting teams that went onto win the league. For teams then, this means that the primary objective of a team is to do good enough just to make the playoffs, as there is enough randomness within a playoff series (only a small sample of games), meaning that regular season success does not necessarily carry over to the post-season. This is also seen in predicting World Series winners out of the set of League winners, as the better team in the regular season only won about 58% of the time."
   ]
  },
  {
   "cell_type": "markdown",
   "metadata": {},
   "source": [
    "#### Competitive Balance Tax"
   ]
  },
  {
   "cell_type": "markdown",
   "metadata": {},
   "source": [
    "In the analysis of the team payrolls, a team's relative total payroll for a season (z-score) practically had no impact on the model predicting wins, and wasn't very correlated with any of the input variables. What this means is that teams that spent more relative to others teams in a season were not more likely to win games, and were not very correlated with the variables that contributed to winning (runs scored, ERA, and fielding percentages). Because of this, the competitive balance tax appears to be effective at creating parity in the MLB, as teams that spend more payroll are not more likely to win games. This is a good result for the MLB, as there is no revenue sharing across teams, which means that teams like the Los Angeles Dodgers or the Boston Red Sox that are in bigger markets (and thus have a lot more money to spend than teams in smaller markets) appear to not be advantaged in any way in terms of winning games by spending more."
   ]
  },
  {
   "cell_type": "markdown",
   "metadata": {},
   "source": [
    "#### Individual Players"
   ]
  },
  {
   "cell_type": "markdown",
   "metadata": {},
   "source": [
    "Based on the win and loss shares for batters and pitchers, respectively, historically great players had a great impact on the team. Between the 1985 and 2016 seasons, the single most impactful player in a season was Manny Ramirez, who singlehandedly had almost 25 win shares for his batting (assuming no runs given up). On the other hand, the best pitching season between the timeframe was by Dwight Gooden, who only had .019 loss shares per inning pitched, meaning it would take him over 50 innings to pitch to result in about 1 loss for his team across the season."
   ]
  },
  {
   "cell_type": "markdown",
   "metadata": {},
   "source": [
    "However, the majority of players were not impactful to their team, with over 25,000 players' seasons having total win shares between 0 and 1 (batting), which across a 162 game season and with a roster of 26 players, is not good, let alone impactful to a team."
   ]
  },
  {
   "cell_type": "markdown",
   "metadata": {},
   "source": [
    "Since the modeling used conventional statistics like runs scored and RBIs, conventional awards did a very good job at recognizing individual batters. For the top 25 individual batting seasons by players between 1985 and 2016, only one was not an All-Star that season, and nearly all of them won a Silver Slugger Award for the season, recognizing the best hitter at each position (catcher, first base, etc) for the season."
   ]
  },
  {
   "cell_type": "markdown",
   "metadata": {},
   "source": [
    "The most valuable batters, across the timeframe in the dataset, were all on their rookie contracts, which means that teams that want to have success for cheap (get the most value out of their players) should draft and develop well. Additionally, based on the later careers of the players on the top 25 most valuable batters list, great success on rookie contracts is very predictive of future success, further enforcing why teams should draft and develop well. Teams can get the most value out of these players on their rookie deals and then try to pay them what they are worth (not as valuable in pure salary terms anymore, but watch them get even better as their careers progress)."
   ]
  },
  {
   "cell_type": "markdown",
   "metadata": {},
   "source": [
    "For the pitchers, although the model used another conventional statistic in ERA (earned run average), historically great pitchers were not recognized with conventional awards as much as the batters were. As mentioned, the third best overall season during the time period was Clayton Kershaw's 2016 season, but he did not win the Cy Young Award, and the 8th overall best season was John Tudor's 1985 season, where he wasn't even an All-Star. Since these snubs were at both ends of the timeframe of the database, it appears that the MLB has not and still isn't identifying the best pitchers (even historically great ones) with conventional awards, at least as well as batters are."
   ]
  },
  {
   "cell_type": "markdown",
   "metadata": {},
   "source": [
    "## Data Limitations"
   ]
  },
  {
   "cell_type": "markdown",
   "metadata": {},
   "source": [
    "The first limitation of this dataset is that the salary data for players was only available between the 1985 and 2016 seasons, reducing the sample size of the dataset, both for teams and individual players. To keep things constistent in order to analyze the effectiveness of the competitive balance tax and the value of individual players, each set had to be reduced to contain only seasons between those years. This means that historical contexts are left out, such as seeing how well wins can be modeled across all seasons, or even seeing the most impactful or valuable players of all time in baseball."
   ]
  },
  {
   "cell_type": "markdown",
   "metadata": {},
   "source": [
    "Another limitation of this dataset was that the salary data was incomplete. A decent amount of player salaries were not recorded in the original database, which means that the total payroll of teams were not completely accurate and that not every player could be included in calculating and ranking the most valuable players in the timeframe. Additionally, there could be some errors in the set, especially for salary data, as at least one player (Dion James) was recorded as having a salary of 0 dollars for a season, which is obviously not possible. This ultimately weakens the findings about the effectiveness of the competitive balance tax and for the value of players, as the data is incomplete and important, impactful information could be missing."
   ]
  },
  {
   "cell_type": "markdown",
   "metadata": {},
   "source": [
    "Finally, the impact of individual players' defense/fielding could not be considered, as even though fielding percentage was in the models for predicting wins, almost no player in the original dataset had a recorded zone rating (which is the same thing as fielding percentage) in the fielding file. This means that I could not evaluate the impact of players' fielding on their teams success or cross-reference to conventional awards like the Gold Glove award that recognizes the best defensive/fielding players in a season."
   ]
  },
  {
   "cell_type": "markdown",
   "metadata": {},
   "source": [
    "## Acknowledgements"
   ]
  },
  {
   "cell_type": "markdown",
   "metadata": {},
   "source": [
    "As mentioned already, the biggest credit is to Sean Lahman and his team for maintaining and sharing the original dataset for free online, which can be found here: http://www.seanlahman.com/baseball-archive/statistics/. The database contains a multitude of statistics across the entire history of the MLB."
   ]
  },
  {
   "cell_type": "markdown",
   "metadata": {},
   "source": [
    "Second, the confusion matrix idea and code was copied from one of the class lectures."
   ]
  },
  {
   "cell_type": "markdown",
   "metadata": {},
   "source": [
    "## Appendix"
   ]
  },
  {
   "cell_type": "markdown",
   "metadata": {},
   "source": [
    "#### I: Data Collection and Cleaning"
   ]
  },
  {
   "cell_type": "markdown",
   "metadata": {},
   "source": [
    "The data collection from the original database and cleaning into the form I used it in can be found in the Jupyter Notebook in this Github repository linked here: https://github.com/CCX1917/INFO2950"
   ]
  }
 ],
 "metadata": {
  "kernelspec": {
   "display_name": "Python 3",
   "language": "python",
   "name": "python3"
  },
  "language_info": {
   "codemirror_mode": {
    "name": "ipython",
    "version": 3
   },
   "file_extension": ".py",
   "mimetype": "text/x-python",
   "name": "python",
   "nbconvert_exporter": "python",
   "pygments_lexer": "ipython3",
   "version": "3.8.5"
  }
 },
 "nbformat": 4,
 "nbformat_minor": 4
}
